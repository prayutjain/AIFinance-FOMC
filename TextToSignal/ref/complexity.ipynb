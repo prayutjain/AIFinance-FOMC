{
  "nbformat": 4,
  "nbformat_minor": 0,
  "metadata": {
    "colab": {
      "provenance": []
    },
    "kernelspec": {
      "name": "python3",
      "display_name": "Python 3"
    },
    "language_info": {
      "name": "python"
    }
  },
  "cells": [
    {
      "cell_type": "code",
      "execution_count": null,
      "metadata": {
        "id": "_YgSu7XcB2kK"
      },
      "outputs": [],
      "source": []
    },
    {
      "cell_type": "code",
      "source": [
        "from google.colab import drive\n",
        "drive.mount('/content/drive')"
      ],
      "metadata": {
        "colab": {
          "base_uri": "https://localhost:8080/"
        },
        "id": "OXgaT9dtCNLN",
        "outputId": "da1a770d-bdea-410d-bd08-62f7f8718554"
      },
      "execution_count": 1,
      "outputs": [
        {
          "output_type": "stream",
          "name": "stdout",
          "text": [
            "Mounted at /content/drive\n"
          ]
        }
      ]
    },
    {
      "cell_type": "code",
      "source": [
        "!pip install transformers"
      ],
      "metadata": {
        "colab": {
          "base_uri": "https://localhost:8080/"
        },
        "id": "o7i3LW1fRYO_",
        "outputId": "ecbb78cd-75b6-4f15-e76f-e76685375b23"
      },
      "execution_count": 4,
      "outputs": [
        {
          "output_type": "stream",
          "name": "stdout",
          "text": [
            "Collecting transformers\n",
            "  Downloading transformers-4.31.0-py3-none-any.whl (7.4 MB)\n",
            "\u001b[2K     \u001b[90m━━━━━━━━━━━━━━━━━━━━━━━━━━━━━━━━━━━━━━━━\u001b[0m \u001b[32m7.4/7.4 MB\u001b[0m \u001b[31m15.2 MB/s\u001b[0m eta \u001b[36m0:00:00\u001b[0m\n",
            "\u001b[?25hRequirement already satisfied: filelock in /usr/local/lib/python3.10/dist-packages (from transformers) (3.12.2)\n",
            "Collecting huggingface-hub<1.0,>=0.14.1 (from transformers)\n",
            "  Downloading huggingface_hub-0.16.4-py3-none-any.whl (268 kB)\n",
            "\u001b[2K     \u001b[90m━━━━━━━━━━━━━━━━━━━━━━━━━━━━━━━━━━━━━━\u001b[0m \u001b[32m268.8/268.8 kB\u001b[0m \u001b[31m24.0 MB/s\u001b[0m eta \u001b[36m0:00:00\u001b[0m\n",
            "\u001b[?25hRequirement already satisfied: numpy>=1.17 in /usr/local/lib/python3.10/dist-packages (from transformers) (1.22.4)\n",
            "Requirement already satisfied: packaging>=20.0 in /usr/local/lib/python3.10/dist-packages (from transformers) (23.1)\n",
            "Requirement already satisfied: pyyaml>=5.1 in /usr/local/lib/python3.10/dist-packages (from transformers) (6.0.1)\n",
            "Requirement already satisfied: regex!=2019.12.17 in /usr/local/lib/python3.10/dist-packages (from transformers) (2022.10.31)\n",
            "Requirement already satisfied: requests in /usr/local/lib/python3.10/dist-packages (from transformers) (2.27.1)\n",
            "Collecting tokenizers!=0.11.3,<0.14,>=0.11.1 (from transformers)\n",
            "  Downloading tokenizers-0.13.3-cp310-cp310-manylinux_2_17_x86_64.manylinux2014_x86_64.whl (7.8 MB)\n",
            "\u001b[2K     \u001b[90m━━━━━━━━━━━━━━━━━━━━━━━━━━━━━━━━━━━━━━━━\u001b[0m \u001b[32m7.8/7.8 MB\u001b[0m \u001b[31m45.2 MB/s\u001b[0m eta \u001b[36m0:00:00\u001b[0m\n",
            "\u001b[?25hCollecting safetensors>=0.3.1 (from transformers)\n",
            "  Downloading safetensors-0.3.1-cp310-cp310-manylinux_2_17_x86_64.manylinux2014_x86_64.whl (1.3 MB)\n",
            "\u001b[2K     \u001b[90m━━━━━━━━━━━━━━━━━━━━━━━━━━━━━━━━━━━━━━━━\u001b[0m \u001b[32m1.3/1.3 MB\u001b[0m \u001b[31m55.8 MB/s\u001b[0m eta \u001b[36m0:00:00\u001b[0m\n",
            "\u001b[?25hRequirement already satisfied: tqdm>=4.27 in /usr/local/lib/python3.10/dist-packages (from transformers) (4.65.0)\n",
            "Requirement already satisfied: fsspec in /usr/local/lib/python3.10/dist-packages (from huggingface-hub<1.0,>=0.14.1->transformers) (2023.6.0)\n",
            "Requirement already satisfied: typing-extensions>=3.7.4.3 in /usr/local/lib/python3.10/dist-packages (from huggingface-hub<1.0,>=0.14.1->transformers) (4.7.1)\n",
            "Requirement already satisfied: urllib3<1.27,>=1.21.1 in /usr/local/lib/python3.10/dist-packages (from requests->transformers) (1.26.16)\n",
            "Requirement already satisfied: certifi>=2017.4.17 in /usr/local/lib/python3.10/dist-packages (from requests->transformers) (2023.5.7)\n",
            "Requirement already satisfied: charset-normalizer~=2.0.0 in /usr/local/lib/python3.10/dist-packages (from requests->transformers) (2.0.12)\n",
            "Requirement already satisfied: idna<4,>=2.5 in /usr/local/lib/python3.10/dist-packages (from requests->transformers) (3.4)\n",
            "Installing collected packages: tokenizers, safetensors, huggingface-hub, transformers\n",
            "Successfully installed huggingface-hub-0.16.4 safetensors-0.3.1 tokenizers-0.13.3 transformers-4.31.0\n"
          ]
        }
      ]
    },
    {
      "cell_type": "code",
      "source": [
        "import transformers"
      ],
      "metadata": {
        "id": "Qe9lu3t6Rekx"
      },
      "execution_count": 5,
      "outputs": []
    },
    {
      "cell_type": "code",
      "source": [
        "import pandas as pd\n",
        "df = pd.read_csv('/content/df_presconf.csv')"
      ],
      "metadata": {
        "id": "uFSnXdNrCWPt"
      },
      "execution_count": 22,
      "outputs": []
    },
    {
      "cell_type": "code",
      "source": [
        "csv_file_path = r'/content/df_presconf.csv'\n",
        "\n",
        "# Read the CSV file into a pandas DataFrame\n",
        "df = pd.read_csv(csv_file_path, encoding='utf-8')"
      ],
      "metadata": {
        "id": "FuaPw5beCWSg"
      },
      "execution_count": 23,
      "outputs": []
    },
    {
      "cell_type": "code",
      "source": [
        "df.head()"
      ],
      "metadata": {
        "colab": {
          "base_uri": "https://localhost:8080/",
          "height": 441
        },
        "id": "5e80KTAfCWU8",
        "outputId": "892e4a59-e430-4e98-f694-0a7a46e1feb0"
      },
      "execution_count": 24,
      "outputs": [
        {
          "output_type": "execute_result",
          "data": {
            "text/plain": [
              "   Unnamed: 0        date       source  \\\n",
              "0           0  2011-04-27  fed_reserve   \n",
              "1           1  2011-04-27  fed_reserve   \n",
              "2           2  2011-04-27  fed_reserve   \n",
              "3           3  2011-04-27  fed_reserve   \n",
              "4           4  2011-04-27  fed_reserve   \n",
              "\n",
              "                                           full_text  \\\n",
              "0  April 27, 2011 Chairman Bernanke’s Press Confe...   \n",
              "1  April 27, 2011 Chairman Bernanke’s Press Confe...   \n",
              "2  April 27, 2011 Chairman Bernanke’s Press Confe...   \n",
              "3  April 27, 2011 Chairman Bernanke’s Press Confe...   \n",
              "4  April 27, 2011 Chairman Bernanke’s Press Confe...   \n",
              "\n",
              "                         title         chairman       variable  \\\n",
              "0  Press Conference Transcript  Ben S. Bernanke  fomc_presconf   \n",
              "1  Press Conference Transcript  Ben S. Bernanke  fomc_presconf   \n",
              "2  Press Conference Transcript  Ben S. Bernanke  fomc_presconf   \n",
              "3  Press Conference Transcript  Ben S. Bernanke  fomc_presconf   \n",
              "4  Press Conference Transcript  Ben S. Bernanke  fomc_presconf   \n",
              "\n",
              "                                        segment_text         segment  \n",
              "0  April 27, 2011 Chairman Bernanke’s Press Confe...  opening_remark  \n",
              "1  UNIDENTIFIED SPEAKER.  Mr. Chairman, tomorrow ...        qa_pair1  \n",
              "2  UNIDENTIFIED SPEAKER.  Mr. Chairman, given wha...        qa_pair2  \n",
              "3  UNIDENTIFIED SPEAKER.  Mr. Chairman, first, th...        qa_pair3  \n",
              "4  UNIDENTIFIED SPEAKER.  I’m sorry, Mr. Chairman...        qa_pair4  "
            ],
            "text/html": [
              "\n",
              "\n",
              "  <div id=\"df-3b545d82-c6c4-4732-a910-791238bab579\">\n",
              "    <div class=\"colab-df-container\">\n",
              "      <div>\n",
              "<style scoped>\n",
              "    .dataframe tbody tr th:only-of-type {\n",
              "        vertical-align: middle;\n",
              "    }\n",
              "\n",
              "    .dataframe tbody tr th {\n",
              "        vertical-align: top;\n",
              "    }\n",
              "\n",
              "    .dataframe thead th {\n",
              "        text-align: right;\n",
              "    }\n",
              "</style>\n",
              "<table border=\"1\" class=\"dataframe\">\n",
              "  <thead>\n",
              "    <tr style=\"text-align: right;\">\n",
              "      <th></th>\n",
              "      <th>Unnamed: 0</th>\n",
              "      <th>date</th>\n",
              "      <th>source</th>\n",
              "      <th>full_text</th>\n",
              "      <th>title</th>\n",
              "      <th>chairman</th>\n",
              "      <th>variable</th>\n",
              "      <th>segment_text</th>\n",
              "      <th>segment</th>\n",
              "    </tr>\n",
              "  </thead>\n",
              "  <tbody>\n",
              "    <tr>\n",
              "      <th>0</th>\n",
              "      <td>0</td>\n",
              "      <td>2011-04-27</td>\n",
              "      <td>fed_reserve</td>\n",
              "      <td>April 27, 2011 Chairman Bernanke’s Press Confe...</td>\n",
              "      <td>Press Conference Transcript</td>\n",
              "      <td>Ben S. Bernanke</td>\n",
              "      <td>fomc_presconf</td>\n",
              "      <td>April 27, 2011 Chairman Bernanke’s Press Confe...</td>\n",
              "      <td>opening_remark</td>\n",
              "    </tr>\n",
              "    <tr>\n",
              "      <th>1</th>\n",
              "      <td>1</td>\n",
              "      <td>2011-04-27</td>\n",
              "      <td>fed_reserve</td>\n",
              "      <td>April 27, 2011 Chairman Bernanke’s Press Confe...</td>\n",
              "      <td>Press Conference Transcript</td>\n",
              "      <td>Ben S. Bernanke</td>\n",
              "      <td>fomc_presconf</td>\n",
              "      <td>UNIDENTIFIED SPEAKER.  Mr. Chairman, tomorrow ...</td>\n",
              "      <td>qa_pair1</td>\n",
              "    </tr>\n",
              "    <tr>\n",
              "      <th>2</th>\n",
              "      <td>2</td>\n",
              "      <td>2011-04-27</td>\n",
              "      <td>fed_reserve</td>\n",
              "      <td>April 27, 2011 Chairman Bernanke’s Press Confe...</td>\n",
              "      <td>Press Conference Transcript</td>\n",
              "      <td>Ben S. Bernanke</td>\n",
              "      <td>fomc_presconf</td>\n",
              "      <td>UNIDENTIFIED SPEAKER.  Mr. Chairman, given wha...</td>\n",
              "      <td>qa_pair2</td>\n",
              "    </tr>\n",
              "    <tr>\n",
              "      <th>3</th>\n",
              "      <td>3</td>\n",
              "      <td>2011-04-27</td>\n",
              "      <td>fed_reserve</td>\n",
              "      <td>April 27, 2011 Chairman Bernanke’s Press Confe...</td>\n",
              "      <td>Press Conference Transcript</td>\n",
              "      <td>Ben S. Bernanke</td>\n",
              "      <td>fomc_presconf</td>\n",
              "      <td>UNIDENTIFIED SPEAKER.  Mr. Chairman, first, th...</td>\n",
              "      <td>qa_pair3</td>\n",
              "    </tr>\n",
              "    <tr>\n",
              "      <th>4</th>\n",
              "      <td>4</td>\n",
              "      <td>2011-04-27</td>\n",
              "      <td>fed_reserve</td>\n",
              "      <td>April 27, 2011 Chairman Bernanke’s Press Confe...</td>\n",
              "      <td>Press Conference Transcript</td>\n",
              "      <td>Ben S. Bernanke</td>\n",
              "      <td>fomc_presconf</td>\n",
              "      <td>UNIDENTIFIED SPEAKER.  I’m sorry, Mr. Chairman...</td>\n",
              "      <td>qa_pair4</td>\n",
              "    </tr>\n",
              "  </tbody>\n",
              "</table>\n",
              "</div>\n",
              "      <button class=\"colab-df-convert\" onclick=\"convertToInteractive('df-3b545d82-c6c4-4732-a910-791238bab579')\"\n",
              "              title=\"Convert this dataframe to an interactive table.\"\n",
              "              style=\"display:none;\">\n",
              "\n",
              "  <svg xmlns=\"http://www.w3.org/2000/svg\" height=\"24px\"viewBox=\"0 0 24 24\"\n",
              "       width=\"24px\">\n",
              "    <path d=\"M0 0h24v24H0V0z\" fill=\"none\"/>\n",
              "    <path d=\"M18.56 5.44l.94 2.06.94-2.06 2.06-.94-2.06-.94-.94-2.06-.94 2.06-2.06.94zm-11 1L8.5 8.5l.94-2.06 2.06-.94-2.06-.94L8.5 2.5l-.94 2.06-2.06.94zm10 10l.94 2.06.94-2.06 2.06-.94-2.06-.94-.94-2.06-.94 2.06-2.06.94z\"/><path d=\"M17.41 7.96l-1.37-1.37c-.4-.4-.92-.59-1.43-.59-.52 0-1.04.2-1.43.59L10.3 9.45l-7.72 7.72c-.78.78-.78 2.05 0 2.83L4 21.41c.39.39.9.59 1.41.59.51 0 1.02-.2 1.41-.59l7.78-7.78 2.81-2.81c.8-.78.8-2.07 0-2.86zM5.41 20L4 18.59l7.72-7.72 1.47 1.35L5.41 20z\"/>\n",
              "  </svg>\n",
              "      </button>\n",
              "\n",
              "\n",
              "\n",
              "    <div id=\"df-6259384b-d101-45e8-8f76-ad6bc39e078c\">\n",
              "      <button class=\"colab-df-quickchart\" onclick=\"quickchart('df-6259384b-d101-45e8-8f76-ad6bc39e078c')\"\n",
              "              title=\"Suggest charts.\"\n",
              "              style=\"display:none;\">\n",
              "\n",
              "<svg xmlns=\"http://www.w3.org/2000/svg\" height=\"24px\"viewBox=\"0 0 24 24\"\n",
              "     width=\"24px\">\n",
              "    <g>\n",
              "        <path d=\"M19 3H5c-1.1 0-2 .9-2 2v14c0 1.1.9 2 2 2h14c1.1 0 2-.9 2-2V5c0-1.1-.9-2-2-2zM9 17H7v-7h2v7zm4 0h-2V7h2v10zm4 0h-2v-4h2v4z\"/>\n",
              "    </g>\n",
              "</svg>\n",
              "      </button>\n",
              "    </div>\n",
              "\n",
              "<style>\n",
              "  .colab-df-quickchart {\n",
              "    background-color: #E8F0FE;\n",
              "    border: none;\n",
              "    border-radius: 50%;\n",
              "    cursor: pointer;\n",
              "    display: none;\n",
              "    fill: #1967D2;\n",
              "    height: 32px;\n",
              "    padding: 0 0 0 0;\n",
              "    width: 32px;\n",
              "  }\n",
              "\n",
              "  .colab-df-quickchart:hover {\n",
              "    background-color: #E2EBFA;\n",
              "    box-shadow: 0px 1px 2px rgba(60, 64, 67, 0.3), 0px 1px 3px 1px rgba(60, 64, 67, 0.15);\n",
              "    fill: #174EA6;\n",
              "  }\n",
              "\n",
              "  [theme=dark] .colab-df-quickchart {\n",
              "    background-color: #3B4455;\n",
              "    fill: #D2E3FC;\n",
              "  }\n",
              "\n",
              "  [theme=dark] .colab-df-quickchart:hover {\n",
              "    background-color: #434B5C;\n",
              "    box-shadow: 0px 1px 3px 1px rgba(0, 0, 0, 0.15);\n",
              "    filter: drop-shadow(0px 1px 2px rgba(0, 0, 0, 0.3));\n",
              "    fill: #FFFFFF;\n",
              "  }\n",
              "</style>\n",
              "\n",
              "    <script>\n",
              "      async function quickchart(key) {\n",
              "        const containerElement = document.querySelector('#' + key);\n",
              "        const charts = await google.colab.kernel.invokeFunction(\n",
              "            'suggestCharts', [key], {});\n",
              "      }\n",
              "    </script>\n",
              "\n",
              "      <script>\n",
              "\n",
              "function displayQuickchartButton(domScope) {\n",
              "  let quickchartButtonEl =\n",
              "    domScope.querySelector('#df-6259384b-d101-45e8-8f76-ad6bc39e078c button.colab-df-quickchart');\n",
              "  quickchartButtonEl.style.display =\n",
              "    google.colab.kernel.accessAllowed ? 'block' : 'none';\n",
              "}\n",
              "\n",
              "        displayQuickchartButton(document);\n",
              "      </script>\n",
              "      <style>\n",
              "    .colab-df-container {\n",
              "      display:flex;\n",
              "      flex-wrap:wrap;\n",
              "      gap: 12px;\n",
              "    }\n",
              "\n",
              "    .colab-df-convert {\n",
              "      background-color: #E8F0FE;\n",
              "      border: none;\n",
              "      border-radius: 50%;\n",
              "      cursor: pointer;\n",
              "      display: none;\n",
              "      fill: #1967D2;\n",
              "      height: 32px;\n",
              "      padding: 0 0 0 0;\n",
              "      width: 32px;\n",
              "    }\n",
              "\n",
              "    .colab-df-convert:hover {\n",
              "      background-color: #E2EBFA;\n",
              "      box-shadow: 0px 1px 2px rgba(60, 64, 67, 0.3), 0px 1px 3px 1px rgba(60, 64, 67, 0.15);\n",
              "      fill: #174EA6;\n",
              "    }\n",
              "\n",
              "    [theme=dark] .colab-df-convert {\n",
              "      background-color: #3B4455;\n",
              "      fill: #D2E3FC;\n",
              "    }\n",
              "\n",
              "    [theme=dark] .colab-df-convert:hover {\n",
              "      background-color: #434B5C;\n",
              "      box-shadow: 0px 1px 3px 1px rgba(0, 0, 0, 0.15);\n",
              "      filter: drop-shadow(0px 1px 2px rgba(0, 0, 0, 0.3));\n",
              "      fill: #FFFFFF;\n",
              "    }\n",
              "  </style>\n",
              "\n",
              "      <script>\n",
              "        const buttonEl =\n",
              "          document.querySelector('#df-3b545d82-c6c4-4732-a910-791238bab579 button.colab-df-convert');\n",
              "        buttonEl.style.display =\n",
              "          google.colab.kernel.accessAllowed ? 'block' : 'none';\n",
              "\n",
              "        async function convertToInteractive(key) {\n",
              "          const element = document.querySelector('#df-3b545d82-c6c4-4732-a910-791238bab579');\n",
              "          const dataTable =\n",
              "            await google.colab.kernel.invokeFunction('convertToInteractive',\n",
              "                                                     [key], {});\n",
              "          if (!dataTable) return;\n",
              "\n",
              "          const docLinkHtml = 'Like what you see? Visit the ' +\n",
              "            '<a target=\"_blank\" href=https://colab.research.google.com/notebooks/data_table.ipynb>data table notebook</a>'\n",
              "            + ' to learn more about interactive tables.';\n",
              "          element.innerHTML = '';\n",
              "          dataTable['output_type'] = 'display_data';\n",
              "          await google.colab.output.renderOutput(dataTable, element);\n",
              "          const docLink = document.createElement('div');\n",
              "          docLink.innerHTML = docLinkHtml;\n",
              "          element.appendChild(docLink);\n",
              "        }\n",
              "      </script>\n",
              "    </div>\n",
              "  </div>\n"
            ]
          },
          "metadata": {},
          "execution_count": 24
        }
      ]
    },
    {
      "cell_type": "code",
      "source": [
        "all_pair=[i for i in df['segment_text']]"
      ],
      "metadata": {
        "id": "kXmJlOr4CWdy"
      },
      "execution_count": 26,
      "outputs": []
    },
    {
      "cell_type": "code",
      "source": [
        "len(all_pair[:100])"
      ],
      "metadata": {
        "colab": {
          "base_uri": "https://localhost:8080/"
        },
        "id": "KcA8LmJ0MSvG",
        "outputId": "ab19483b-0edb-4045-ce3f-3bbbae3f81e7"
      },
      "execution_count": 27,
      "outputs": [
        {
          "output_type": "execute_result",
          "data": {
            "text/plain": [
              "100"
            ]
          },
          "metadata": {},
          "execution_count": 27
        }
      ]
    },
    {
      "cell_type": "code",
      "source": [
        "#inputs = tokenizer(all_pair[:100], return_tensors=\"pt\", padding=True, truncation=True)"
      ],
      "metadata": {
        "id": "F4WUWsZAKMVv"
      },
      "execution_count": 28,
      "outputs": []
    },
    {
      "cell_type": "code",
      "source": [],
      "metadata": {
        "id": "RNCyCYLeSOXt"
      },
      "execution_count": null,
      "outputs": []
    },
    {
      "cell_type": "code",
      "source": [
        "import re\n",
        "\n",
        "def simple_tokenize(sentence):\n",
        "    # Tokenize based on whitespace and punctuation\n",
        "    tokens = re.findall(r'\\w+|[.,!?;]', sentence)\n",
        "    return tokens\n",
        "\n",
        "# List of sentences\n",
        "sentences =all_pair\n",
        "\n",
        "# Calculate token length for each sentence\n",
        "token_lengths = [len(simple_tokenize(sentence)) for sentence in sentences]\n",
        "\n",
        "# Total token length for the list of sentences\n",
        "total_token_length = sum(token_lengths)\n",
        "\n",
        "print(\"Token Lengths for Each Sentence:\", token_lengths)\n",
        "print(\"Total Token Length for the List of Sentences:\", total_token_length)\n"
      ],
      "metadata": {
        "colab": {
          "base_uri": "https://localhost:8080/"
        },
        "id": "59xmvfiMicXK",
        "outputId": "773ebe19-a6f4-457b-8fce-a6290737f5e6"
      },
      "execution_count": 38,
      "outputs": [
        {
          "output_type": "stream",
          "name": "stdout",
          "text": [
            "Token Lengths for Each Sentence: [2009, 325, 446, 318, 244, 695, 368, 409, 552, 32, 380, 649, 297, 363, 126, 333, 387, 655, 347, 278, 640, 724, 1475, 262, 336, 595, 282, 380, 480, 512, 756, 476, 404, 282, 515, 337, 437, 419, 214, 750, 1636, 449, 221, 572, 259, 263, 312, 575, 366, 709, 314, 235, 369, 384, 519, 353, 363, 403, 373, 265, 2367, 404, 401, 523, 689, 396, 506, 625, 533, 437, 677, 405, 483, 773, 593, 391, 251, 902, 471, 800, 332, 396, 419, 354, 651, 310, 284, 430, 456, 341, 674, 377, 364, 417, 387, 400, 667, 628, 394, 926, 510, 291, 319, 299, 245, 242, 343, 257, 388, 265, 402, 608, 243, 287, 431, 472, 415, 209, 561, 298, 246, 115, 238, 1703, 189, 211, 406, 431, 399, 197, 455, 320, 352, 404, 426, 314, 536, 502, 347, 561, 556, 560, 389, 401, 376, 2182, 586, 717, 767, 589, 565, 539, 123, 866, 595, 696, 348, 474, 601, 727, 343, 334, 264, 736, 389, 631, 521, 1562, 463, 443, 454, 684, 400, 494, 249, 545, 350, 373, 374, 777, 844, 410, 260, 287, 320, 514, 526, 359, 2117, 397, 557, 369, 329, 135, 551, 1052, 408, 654, 255, 372, 967, 621, 539, 682, 230, 730, 289, 2478, 470, 585, 443, 171, 86, 425, 419, 697, 530, 388, 814, 709, 120, 301, 499, 152, 59, 208, 604, 552, 1972, 230, 638, 142, 534, 428, 448, 592, 22, 457, 600, 395, 246, 553, 336, 530, 1101, 303, 354, 977, 489, 348, 429, 486, 1936, 818, 767, 622, 377, 271, 476, 415, 582, 823, 307, 341, 348, 335, 307, 325, 1686, 418, 251, 694, 577, 399, 579, 311, 429, 356, 483, 284, 734, 199, 406, 308, 103, 2659, 854, 617, 393, 773, 406, 777, 252, 428, 414, 610, 168, 273, 1918, 614, 259, 476, 458, 348, 338, 344, 714, 764, 668, 526, 423, 350, 377, 438, 1885, 460, 494, 308, 392, 612, 459, 336, 756, 358, 309, 435, 354, 454, 473, 244, 443, 1898, 522, 554, 545, 598, 830, 361, 344, 417, 313, 313, 416, 541, 380, 274, 306, 340, 269, 2157, 349, 408, 359, 666, 617, 433, 303, 848, 145, 299, 292, 559, 231, 348, 310, 198, 373, 2626, 516, 691, 665, 732, 472, 618, 547, 430, 422, 349, 237, 368, 429, 254, 590, 383, 333, 2076, 735, 408, 394, 401, 154, 673, 483, 241, 1074, 335, 267, 707, 561, 405, 1814, 253, 734, 661, 549, 676, 576, 264, 552, 392, 214, 418, 348, 512, 348, 1689, 764, 392, 496, 409, 709, 561, 714, 406, 259, 332, 113, 344, 607, 595, 628, 346, 240, 1317, 252, 453, 257, 404, 335, 434, 174, 139, 544, 387, 274, 273, 351, 272, 630, 494, 731, 1325, 489, 436, 672, 214, 468, 569, 296, 252, 322, 165, 1009, 310, 298, 527, 426, 227, 192, 2128, 234, 241, 658, 423, 239, 277, 836, 454, 560, 464, 680, 286, 466, 644, 361, 1753, 953, 380, 684, 709, 678, 622, 136, 891, 369, 216, 208, 783, 600, 958, 1633, 728, 321, 596, 606, 768, 385, 554, 465, 486, 253, 518, 250, 426, 769, 556, 350, 402, 939, 1181, 507, 378, 387, 414, 402, 379, 99, 285, 329, 437, 305, 239, 518, 576, 622, 491, 317, 58, 283, 300, 328, 1898, 491, 367, 345, 357, 364, 357, 272, 446, 538, 465, 472, 537, 418, 486, 347, 410, 349, 396, 529, 298, 316, 290, 1323, 216, 246, 433, 669, 683, 553, 475, 418, 445, 507, 567, 563, 635, 785, 229, 261, 480, 609, 303, 491, 414, 529, 265, 289, 1776, 230, 249, 346, 476, 301, 255, 557, 267, 391, 464, 290, 440, 261, 311, 474, 564, 457, 369, 221, 453, 1703, 172, 203, 262, 411, 580, 374, 329, 397, 314, 210, 288, 506, 316, 313, 238, 169, 194, 455, 309, 346, 730, 205, 386, 1455, 309, 585, 373, 368, 612, 174, 407, 315, 575, 248, 345, 577, 307, 213, 430, 353, 295, 278, 420, 259, 150, 1197, 423, 258, 427, 611, 484, 322, 272, 197, 385, 534, 365, 184, 469, 518, 168, 437, 175, 253, 354, 1338, 494, 364, 63, 322, 174, 204, 782, 363, 300, 274, 646, 337, 98, 162, 429, 861, 947, 454, 153, 1003, 344, 499, 319, 429, 717, 365, 139, 147, 737, 281, 353, 330, 841, 336, 519, 277, 381, 477, 413, 176, 336, 1509, 266, 530, 594, 922, 433, 585, 263, 341, 625, 467, 482, 374, 484, 809, 480, 190, 396, 172, 324, 314, 1229, 537, 686, 346, 437, 437, 412, 610, 464, 569, 224, 319, 151, 172, 519, 375, 204, 360, 445, 414, 388, 221, 90, 1309, 520, 458, 1203, 240, 391, 335, 351, 440, 822, 631, 539, 542, 311, 69, 335, 672, 381, 719, 279, 371, 1178, 426, 873, 548, 570, 594, 848, 475, 78, 540, 521, 410, 389, 420, 352, 566, 320, 347, 565, 464, 292, 440, 497, 375, 294, 397, 249, 131, 343, 314, 219, 1596, 510, 234, 799, 385, 328, 1104, 382, 485, 671, 719, 696, 401, 350, 1379, 347, 440, 668, 1092, 765, 743, 457, 519, 398, 441, 487, 733, 653, 503, 2100, 634, 613, 472, 567, 830, 763, 332, 743, 1364, 466, 851, 503, 508, 735, 895, 1836, 292, 493, 24, 1347, 521, 350, 447, 690, 481, 549, 415, 534, 1193, 394, 526, 436, 347, 741, 349, 1955, 672, 644, 753, 555, 234, 606, 654, 554, 312, 743, 1133, 581, 740, 955, 435, 591, 421, 541, 1752, 461, 257, 541, 586, 705, 176, 1418, 284, 422, 569, 250, 345, 546, 801, 969, 1997, 991, 388, 473, 862, 418, 622, 998, 1019, 698, 746, 586, 440, 260, 249, 833, 744, 1476, 503, 399, 1141, 706, 694, 1129, 502, 764, 667, 324, 663, 1551, 915, 1615, 7, 626, 665, 559, 385, 841, 600, 562, 526, 467, 327, 630, 392, 613, 1114, 475, 733, 1014, 422, 1178, 210, 435, 470, 444, 558, 604, 711, 1161, 488, 371, 506, 682, 900, 892, 691, 652, 344, 718, 1677, 1040, 667, 356, 681, 30, 837, 300, 451, 520, 1009, 343, 815, 712, 780, 353, 425, 578, 1174, 1405, 634, 565, 302, 620, 565, 513, 638, 638, 903, 868, 857, 435, 746, 335, 581, 745, 464, 1509, 449, 485, 413, 423, 432, 699, 950, 359, 784, 384, 234, 843, 412, 461, 148, 294, 540, 430, 776, 1381, 529, 370, 14, 668, 379, 670, 840, 570, 1024, 396, 539, 725, 312, 1156, 329, 938, 862, 1421, 352, 645, 405, 922, 791, 984, 401, 1055, 1263, 318, 574, 999, 393, 595, 635, 559, 604, 1459, 376, 718, 954, 442, 632, 980, 909, 914, 547, 383, 597, 832, 622, 438, 730, 1380, 303, 468, 443, 425, 706, 520, 351, 289, 719, 515, 497, 578, 416, 868, 417, 681, 290, 604, 565, 1421, 976, 1127, 393, 346, 377, 595, 494, 612, 261, 1658, 228, 314, 533, 491, 1681, 416, 764, 831, 635, 563, 931, 551, 793, 425, 506, 566, 332, 360, 316, 348, 846, 529, 1243, 292, 869, 620, 335, 553, 570, 476, 271, 501, 381, 592, 732, 528, 332, 335, 1110, 335, 453, 380, 476, 426, 1474, 495, 601, 784, 419, 538, 440, 240, 485, 575, 589, 547, 588, 570, 335, 1277, 300, 915, 495, 285, 827, 576, 856, 774, 524, 696, 900, 414, 525, 1635, 546, 968, 457, 459, 619, 205, 454, 235, 299, 550, 669, 318, 224, 494, 252, 480, 322, 221, 1249, 241, 415, 303, 836, 811, 514, 366, 410, 1068, 432, 508, 567, 343, 233, 610, 279, 273, 1602, 614, 348, 562, 334, 592, 636, 546, 275, 270, 292, 243, 410, 452, 191, 248, 645, 202, 387, 448, 1324, 548, 476, 751, 546, 641, 440, 748, 529, 606, 417, 311, 726, 367, 184, 345, 10, 279, 741, 402, 329, 1593]\n",
            "Total Token Length for the List of Sentences: 691310\n"
          ]
        }
      ]
    },
    {
      "cell_type": "code",
      "source": [
        "df['token_len']=token_lengths"
      ],
      "metadata": {
        "id": "v_G1SK2EQP-4"
      },
      "execution_count": null,
      "outputs": []
    },
    {
      "cell_type": "code",
      "source": [
        "from transformers import BertForSequenceClassification, BertTokenizer, pipeline\n",
        "from transformers import AutoTokenizer, AutoModelForSequenceClassification\n",
        "\n",
        "tokenizer = AutoTokenizer.from_pretrained(\"ticharles/CEFR_extended\")\n",
        "model = AutoModelForSequenceClassification.from_pretrained(\"ticharles/CEFR_extended\")\n",
        "\n",
        "# Create a text classification pipeline using the fine-tuned model\n",
        "classifier = pipeline('text-classification', model=model, tokenizer=tokenizer)"
      ],
      "metadata": {
        "id": "ynNQ6SUziyzR"
      },
      "execution_count": 34,
      "outputs": []
    },
    {
      "cell_type": "code",
      "source": [
        "# Example usage to estimate CEFR complexity level\n",
        "text_to_evaluate = all_pair[1]\n",
        "result = classifier(text_to_evaluate)#\n",
        "predicted_cefr_level = result[0]['label']#\n",
        "print(\"Input Text:\", text_to_evaluate)\n",
        "print(\"Predicted CEFR Complexity Level:\", predicted_cefr_level)"
      ],
      "metadata": {
        "colab": {
          "base_uri": "https://localhost:8080/"
        },
        "id": "OXZtJviBVjVm",
        "outputId": "bdc1cc37-0951-41b4-9e4b-c0c6facfa0ed"
      },
      "execution_count": 74,
      "outputs": [
        {
          "output_type": "stream",
          "name": "stdout",
          "text": [
            "Input Text: UNIDENTIFIED SPEAKER.  Mr. Chairman, tomorrow we’re going to get a pretty weak first-quarter \n",
            "GDP number.  Your own projections  for the year have been downgraded in this meeting.  How—\n",
            "first of all, what do you see as the causes of the weak growth to start the year, even with \n",
            "monetary easing, even with payr oll tax cuts?  And what’s behi nd this weaker forecast for 2011 \n",
            "GDP?  \n",
            "CHAIRMAN BERNANKE.  You’re correct.  We haven’t seen the GDP number yet.  But \n",
            "we, like most private-sector forecasters, are e xpecting a relatively weak  number for the first \n",
            "quarter, maybe something a little und er 2 percent.  Most of the f actors that account for the slower \n",
            "growth in the first quarter appear to us to be tr ansitory.  They include things like, for example, \n",
            "lower defense spending than was anticipated, wh ich will presumably be made up in a later \n",
            "quarter; weaker exports—and given the growth in the global economy, we expect to see that pick \n",
            "up again; and other factors like w eather and so on.  Now, there are some factors there that may \n",
            "have a longer-term implication.  For example, c onstruction, both residential and nonresidential, \n",
            "was very weak in the first quarter, and that ma y have some implications going forward.  So I \n",
            "would say that, roughly, that most of the sl owdown in the first quarter is viewed by the \n",
            "Committee as being transitory.  Th at being said, we’ve taken our forecast down just a bit, taking April 27, 2011 Chairman Bernanke’s Press Conference FINAL \n",
            "7 of 26 \n",
            " into account factors like—like w eaker construction and possibly ju st a bit less momentum in the \n",
            "economy.\n",
            "Predicted CEFR Complexity Level: LABEL_5\n"
          ]
        }
      ]
    },
    {
      "cell_type": "code",
      "source": [
        "result"
      ],
      "metadata": {
        "colab": {
          "base_uri": "https://localhost:8080/"
        },
        "id": "sGyu33R1iy23",
        "outputId": "b7753cdb-0a34-4d3c-a84c-063d5c13141a"
      },
      "execution_count": 35,
      "outputs": [
        {
          "output_type": "execute_result",
          "data": {
            "text/plain": [
              "[{'label': 'LABEL_5', 'score': 0.8652123808860779}]"
            ]
          },
          "metadata": {},
          "execution_count": 35
        }
      ]
    },
    {
      "cell_type": "code",
      "source": [
        "#break each text into multiple parts\n",
        "#and get the sentiment on each part"
      ],
      "metadata": {
        "id": "B5-wijtwjUMj"
      },
      "execution_count": null,
      "outputs": []
    },
    {
      "cell_type": "code",
      "source": [
        "def break_sentence_into_groups(sentence, words_per_group=280):\n",
        "    words = sentence.split()\n",
        "    groups = [words[i:i+words_per_group] for i in range(0, len(words), words_per_group)]\n",
        "    return [' '.join(group) for group in groups]"
      ],
      "metadata": {
        "id": "g_9JXmjcG0Cf"
      },
      "execution_count": 86,
      "outputs": []
    },
    {
      "cell_type": "code",
      "source": [
        "all_lev=[]\n",
        "for i in all_pair[:]:\n",
        "  resulting_groups= break_sentence_into_groups(i, words_per_group=280)\n",
        "\n",
        "  cat=[]\n",
        "  for j in resulting_groups:\n",
        "    result = classifier(j)\n",
        "    predicted_cefr_level = result[0]['label']\n",
        "    cat.append(predicted_cefr_level)\n",
        "  all_lev.append(cat)\n",
        "\n"
      ],
      "metadata": {
        "id": "80Hp6y6ajUQU"
      },
      "execution_count": 87,
      "outputs": []
    },
    {
      "cell_type": "code",
      "source": [
        "(all_lev[2])"
      ],
      "metadata": {
        "colab": {
          "base_uri": "https://localhost:8080/"
        },
        "id": "qnz5yS-5Ikcj",
        "outputId": "b192b392-c61b-443d-cbe2-0739446f54d3"
      },
      "execution_count": 84,
      "outputs": [
        {
          "output_type": "execute_result",
          "data": {
            "text/plain": [
              "['LABEL_5', 'LABEL_5']"
            ]
          },
          "metadata": {},
          "execution_count": 84
        }
      ]
    },
    {
      "cell_type": "code",
      "source": [
        "len(all_lev)"
      ],
      "metadata": {
        "colab": {
          "base_uri": "https://localhost:8080/"
        },
        "id": "qX4cfATWJV2_",
        "outputId": "c840e81a-a32c-49dc-ff47-1c0c95c994e4"
      },
      "execution_count": 88,
      "outputs": [
        {
          "output_type": "execute_result",
          "data": {
            "text/plain": [
              "1276"
            ]
          },
          "metadata": {},
          "execution_count": 88
        }
      ]
    },
    {
      "cell_type": "code",
      "source": [
        "len(all_pair)"
      ],
      "metadata": {
        "colab": {
          "base_uri": "https://localhost:8080/"
        },
        "id": "jKukzYfrJV6H",
        "outputId": "37e748a8-ce93-44f9-dae6-1c8bc390562f"
      },
      "execution_count": 89,
      "outputs": [
        {
          "output_type": "execute_result",
          "data": {
            "text/plain": [
              "1276"
            ]
          },
          "metadata": {},
          "execution_count": 89
        }
      ]
    },
    {
      "cell_type": "code",
      "source": [
        "#add all pair to the df\n",
        "df['levels']=all_lev"
      ],
      "metadata": {
        "id": "REpTpCsbJV9A"
      },
      "execution_count": 90,
      "outputs": []
    },
    {
      "cell_type": "code",
      "source": [
        "df.tail(4)"
      ],
      "metadata": {
        "colab": {
          "base_uri": "https://localhost:8080/",
          "height": 497
        },
        "id": "vfuKTdXgJV_t",
        "outputId": "0eaa5b16-6591-4528-808c-a7c0e8d82f5c"
      },
      "execution_count": 94,
      "outputs": [
        {
          "output_type": "execute_result",
          "data": {
            "text/plain": [
              "      Unnamed: 0        date       source  \\\n",
              "1272        1272  2023-05-03  fed_reserve   \n",
              "1273        1273  2023-05-03  fed_reserve   \n",
              "1274        1274  2023-05-03  fed_reserve   \n",
              "1275        1275  2023-06-14  fed_reserve   \n",
              "\n",
              "                                              full_text  \\\n",
              "1272  May 3, 2023   Chair Powell ’s Press Conference...   \n",
              "1273  May 3, 2023   Chair Powell ’s Press Conference...   \n",
              "1274  May 3, 2023   Chair Powell ’s Press Conference...   \n",
              "1275  June 14, 2023  Chair Powell ’s Press  Conferen...   \n",
              "\n",
              "                            title          chairman       variable  \\\n",
              "1272  Press Conference Transcript  Jerome H. Powell  fomc_presconf   \n",
              "1273  Press Conference Transcript  Jerome H. Powell  fomc_presconf   \n",
              "1274  Press Conference Transcript  Jerome H. Powell  fomc_presconf   \n",
              "1275  Press Conference Transcript  Jerome H. Powell  fomc_presconf   \n",
              "\n",
              "                                           segment_text         segment  \\\n",
              "1272  GREG ROBB.  Thank you, Fed Chairman.  Greg Rob...       qa_pair18   \n",
              "1273  MEGAN CAS SELLA.  Hi, there.  Megan Cas sella ...       qa_pair19   \n",
              "1274  NANCY MARSHALL -GENZER.  Hi, Chair Powell.  Na...       qa_pair20   \n",
              "1275  June 14, 2023  Chair Powell ’s Press  Conferen...  opening_remark   \n",
              "\n",
              "      token_len                                             levels  \n",
              "1272        741                        [LABEL_5, LABEL_5, LABEL_5]  \n",
              "1273        402                                 [LABEL_5, LABEL_5]  \n",
              "1274        329                                 [LABEL_5, LABEL_0]  \n",
              "1275       1593  [LABEL_5, LABEL_5, LABEL_5, LABEL_5, LABEL_5, ...  "
            ],
            "text/html": [
              "\n",
              "\n",
              "  <div id=\"df-e2db408c-1557-4b82-92b6-d32dffe82fb9\">\n",
              "    <div class=\"colab-df-container\">\n",
              "      <div>\n",
              "<style scoped>\n",
              "    .dataframe tbody tr th:only-of-type {\n",
              "        vertical-align: middle;\n",
              "    }\n",
              "\n",
              "    .dataframe tbody tr th {\n",
              "        vertical-align: top;\n",
              "    }\n",
              "\n",
              "    .dataframe thead th {\n",
              "        text-align: right;\n",
              "    }\n",
              "</style>\n",
              "<table border=\"1\" class=\"dataframe\">\n",
              "  <thead>\n",
              "    <tr style=\"text-align: right;\">\n",
              "      <th></th>\n",
              "      <th>Unnamed: 0</th>\n",
              "      <th>date</th>\n",
              "      <th>source</th>\n",
              "      <th>full_text</th>\n",
              "      <th>title</th>\n",
              "      <th>chairman</th>\n",
              "      <th>variable</th>\n",
              "      <th>segment_text</th>\n",
              "      <th>segment</th>\n",
              "      <th>token_len</th>\n",
              "      <th>levels</th>\n",
              "    </tr>\n",
              "  </thead>\n",
              "  <tbody>\n",
              "    <tr>\n",
              "      <th>1272</th>\n",
              "      <td>1272</td>\n",
              "      <td>2023-05-03</td>\n",
              "      <td>fed_reserve</td>\n",
              "      <td>May 3, 2023   Chair Powell ’s Press Conference...</td>\n",
              "      <td>Press Conference Transcript</td>\n",
              "      <td>Jerome H. Powell</td>\n",
              "      <td>fomc_presconf</td>\n",
              "      <td>GREG ROBB.  Thank you, Fed Chairman.  Greg Rob...</td>\n",
              "      <td>qa_pair18</td>\n",
              "      <td>741</td>\n",
              "      <td>[LABEL_5, LABEL_5, LABEL_5]</td>\n",
              "    </tr>\n",
              "    <tr>\n",
              "      <th>1273</th>\n",
              "      <td>1273</td>\n",
              "      <td>2023-05-03</td>\n",
              "      <td>fed_reserve</td>\n",
              "      <td>May 3, 2023   Chair Powell ’s Press Conference...</td>\n",
              "      <td>Press Conference Transcript</td>\n",
              "      <td>Jerome H. Powell</td>\n",
              "      <td>fomc_presconf</td>\n",
              "      <td>MEGAN CAS SELLA.  Hi, there.  Megan Cas sella ...</td>\n",
              "      <td>qa_pair19</td>\n",
              "      <td>402</td>\n",
              "      <td>[LABEL_5, LABEL_5]</td>\n",
              "    </tr>\n",
              "    <tr>\n",
              "      <th>1274</th>\n",
              "      <td>1274</td>\n",
              "      <td>2023-05-03</td>\n",
              "      <td>fed_reserve</td>\n",
              "      <td>May 3, 2023   Chair Powell ’s Press Conference...</td>\n",
              "      <td>Press Conference Transcript</td>\n",
              "      <td>Jerome H. Powell</td>\n",
              "      <td>fomc_presconf</td>\n",
              "      <td>NANCY MARSHALL -GENZER.  Hi, Chair Powell.  Na...</td>\n",
              "      <td>qa_pair20</td>\n",
              "      <td>329</td>\n",
              "      <td>[LABEL_5, LABEL_0]</td>\n",
              "    </tr>\n",
              "    <tr>\n",
              "      <th>1275</th>\n",
              "      <td>1275</td>\n",
              "      <td>2023-06-14</td>\n",
              "      <td>fed_reserve</td>\n",
              "      <td>June 14, 2023  Chair Powell ’s Press  Conferen...</td>\n",
              "      <td>Press Conference Transcript</td>\n",
              "      <td>Jerome H. Powell</td>\n",
              "      <td>fomc_presconf</td>\n",
              "      <td>June 14, 2023  Chair Powell ’s Press  Conferen...</td>\n",
              "      <td>opening_remark</td>\n",
              "      <td>1593</td>\n",
              "      <td>[LABEL_5, LABEL_5, LABEL_5, LABEL_5, LABEL_5, ...</td>\n",
              "    </tr>\n",
              "  </tbody>\n",
              "</table>\n",
              "</div>\n",
              "      <button class=\"colab-df-convert\" onclick=\"convertToInteractive('df-e2db408c-1557-4b82-92b6-d32dffe82fb9')\"\n",
              "              title=\"Convert this dataframe to an interactive table.\"\n",
              "              style=\"display:none;\">\n",
              "\n",
              "  <svg xmlns=\"http://www.w3.org/2000/svg\" height=\"24px\"viewBox=\"0 0 24 24\"\n",
              "       width=\"24px\">\n",
              "    <path d=\"M0 0h24v24H0V0z\" fill=\"none\"/>\n",
              "    <path d=\"M18.56 5.44l.94 2.06.94-2.06 2.06-.94-2.06-.94-.94-2.06-.94 2.06-2.06.94zm-11 1L8.5 8.5l.94-2.06 2.06-.94-2.06-.94L8.5 2.5l-.94 2.06-2.06.94zm10 10l.94 2.06.94-2.06 2.06-.94-2.06-.94-.94-2.06-.94 2.06-2.06.94z\"/><path d=\"M17.41 7.96l-1.37-1.37c-.4-.4-.92-.59-1.43-.59-.52 0-1.04.2-1.43.59L10.3 9.45l-7.72 7.72c-.78.78-.78 2.05 0 2.83L4 21.41c.39.39.9.59 1.41.59.51 0 1.02-.2 1.41-.59l7.78-7.78 2.81-2.81c.8-.78.8-2.07 0-2.86zM5.41 20L4 18.59l7.72-7.72 1.47 1.35L5.41 20z\"/>\n",
              "  </svg>\n",
              "      </button>\n",
              "\n",
              "\n",
              "\n",
              "    <div id=\"df-62795f24-af1c-4cf8-b1ef-166efa3c7562\">\n",
              "      <button class=\"colab-df-quickchart\" onclick=\"quickchart('df-62795f24-af1c-4cf8-b1ef-166efa3c7562')\"\n",
              "              title=\"Suggest charts.\"\n",
              "              style=\"display:none;\">\n",
              "\n",
              "<svg xmlns=\"http://www.w3.org/2000/svg\" height=\"24px\"viewBox=\"0 0 24 24\"\n",
              "     width=\"24px\">\n",
              "    <g>\n",
              "        <path d=\"M19 3H5c-1.1 0-2 .9-2 2v14c0 1.1.9 2 2 2h14c1.1 0 2-.9 2-2V5c0-1.1-.9-2-2-2zM9 17H7v-7h2v7zm4 0h-2V7h2v10zm4 0h-2v-4h2v4z\"/>\n",
              "    </g>\n",
              "</svg>\n",
              "      </button>\n",
              "    </div>\n",
              "\n",
              "<style>\n",
              "  .colab-df-quickchart {\n",
              "    background-color: #E8F0FE;\n",
              "    border: none;\n",
              "    border-radius: 50%;\n",
              "    cursor: pointer;\n",
              "    display: none;\n",
              "    fill: #1967D2;\n",
              "    height: 32px;\n",
              "    padding: 0 0 0 0;\n",
              "    width: 32px;\n",
              "  }\n",
              "\n",
              "  .colab-df-quickchart:hover {\n",
              "    background-color: #E2EBFA;\n",
              "    box-shadow: 0px 1px 2px rgba(60, 64, 67, 0.3), 0px 1px 3px 1px rgba(60, 64, 67, 0.15);\n",
              "    fill: #174EA6;\n",
              "  }\n",
              "\n",
              "  [theme=dark] .colab-df-quickchart {\n",
              "    background-color: #3B4455;\n",
              "    fill: #D2E3FC;\n",
              "  }\n",
              "\n",
              "  [theme=dark] .colab-df-quickchart:hover {\n",
              "    background-color: #434B5C;\n",
              "    box-shadow: 0px 1px 3px 1px rgba(0, 0, 0, 0.15);\n",
              "    filter: drop-shadow(0px 1px 2px rgba(0, 0, 0, 0.3));\n",
              "    fill: #FFFFFF;\n",
              "  }\n",
              "</style>\n",
              "\n",
              "    <script>\n",
              "      async function quickchart(key) {\n",
              "        const containerElement = document.querySelector('#' + key);\n",
              "        const charts = await google.colab.kernel.invokeFunction(\n",
              "            'suggestCharts', [key], {});\n",
              "      }\n",
              "    </script>\n",
              "\n",
              "      <script>\n",
              "\n",
              "function displayQuickchartButton(domScope) {\n",
              "  let quickchartButtonEl =\n",
              "    domScope.querySelector('#df-62795f24-af1c-4cf8-b1ef-166efa3c7562 button.colab-df-quickchart');\n",
              "  quickchartButtonEl.style.display =\n",
              "    google.colab.kernel.accessAllowed ? 'block' : 'none';\n",
              "}\n",
              "\n",
              "        displayQuickchartButton(document);\n",
              "      </script>\n",
              "      <style>\n",
              "    .colab-df-container {\n",
              "      display:flex;\n",
              "      flex-wrap:wrap;\n",
              "      gap: 12px;\n",
              "    }\n",
              "\n",
              "    .colab-df-convert {\n",
              "      background-color: #E8F0FE;\n",
              "      border: none;\n",
              "      border-radius: 50%;\n",
              "      cursor: pointer;\n",
              "      display: none;\n",
              "      fill: #1967D2;\n",
              "      height: 32px;\n",
              "      padding: 0 0 0 0;\n",
              "      width: 32px;\n",
              "    }\n",
              "\n",
              "    .colab-df-convert:hover {\n",
              "      background-color: #E2EBFA;\n",
              "      box-shadow: 0px 1px 2px rgba(60, 64, 67, 0.3), 0px 1px 3px 1px rgba(60, 64, 67, 0.15);\n",
              "      fill: #174EA6;\n",
              "    }\n",
              "\n",
              "    [theme=dark] .colab-df-convert {\n",
              "      background-color: #3B4455;\n",
              "      fill: #D2E3FC;\n",
              "    }\n",
              "\n",
              "    [theme=dark] .colab-df-convert:hover {\n",
              "      background-color: #434B5C;\n",
              "      box-shadow: 0px 1px 3px 1px rgba(0, 0, 0, 0.15);\n",
              "      filter: drop-shadow(0px 1px 2px rgba(0, 0, 0, 0.3));\n",
              "      fill: #FFFFFF;\n",
              "    }\n",
              "  </style>\n",
              "\n",
              "      <script>\n",
              "        const buttonEl =\n",
              "          document.querySelector('#df-e2db408c-1557-4b82-92b6-d32dffe82fb9 button.colab-df-convert');\n",
              "        buttonEl.style.display =\n",
              "          google.colab.kernel.accessAllowed ? 'block' : 'none';\n",
              "\n",
              "        async function convertToInteractive(key) {\n",
              "          const element = document.querySelector('#df-e2db408c-1557-4b82-92b6-d32dffe82fb9');\n",
              "          const dataTable =\n",
              "            await google.colab.kernel.invokeFunction('convertToInteractive',\n",
              "                                                     [key], {});\n",
              "          if (!dataTable) return;\n",
              "\n",
              "          const docLinkHtml = 'Like what you see? Visit the ' +\n",
              "            '<a target=\"_blank\" href=https://colab.research.google.com/notebooks/data_table.ipynb>data table notebook</a>'\n",
              "            + ' to learn more about interactive tables.';\n",
              "          element.innerHTML = '';\n",
              "          dataTable['output_type'] = 'display_data';\n",
              "          await google.colab.output.renderOutput(dataTable, element);\n",
              "          const docLink = document.createElement('div');\n",
              "          docLink.innerHTML = docLinkHtml;\n",
              "          element.appendChild(docLink);\n",
              "        }\n",
              "      </script>\n",
              "    </div>\n",
              "  </div>\n"
            ]
          },
          "metadata": {},
          "execution_count": 94
        }
      ]
    },
    {
      "cell_type": "code",
      "source": [],
      "metadata": {
        "id": "sOss61zRJWCV"
      },
      "execution_count": null,
      "outputs": []
    },
    {
      "cell_type": "code",
      "source": [
        "#plot\n",
        "# for each ques/ans pair, make a chart whose x axis denotes one pair and the y axis denotes the number of levels\n",
        "#and the frequency of each level for a sigle pair"
      ],
      "metadata": {
        "id": "w3lCkabfjUfb"
      },
      "execution_count": null,
      "outputs": []
    },
    {
      "cell_type": "code",
      "source": [
        "import matplotlib.pyplot as plt\n",
        "import numpy as np\n",
        "\n",
        "# Sample data (replace this with your actual data)\n",
        "list_of_lists = all_lev\n",
        "# Get a list of unique words in the entire list of lists\n",
        "unique_words = sorted(set(word for sublist in list_of_lists for word in sublist))\n",
        "\n",
        "# Create a dictionary to store the word frequencies for each list\n",
        "word_frequencies = {word: [0] * len(list_of_lists) for word in unique_words}\n",
        "\n",
        "# Calculate the frequency of each word in each list\n",
        "for i, word_list in enumerate(list_of_lists):\n",
        "    for word in word_list:\n",
        "        word_frequencies[word][i] += 1\n",
        "\n",
        "# Plot the grouped bar chart\n",
        "plt.figure(figsize=(20, 10))\n",
        "x = np.arange(len(list_of_lists))\n",
        "width = 0.40\n",
        "\n",
        "colors = plt.cm.tab20.colors\n",
        "for i, word in enumerate(unique_words):\n",
        "    plt.bar(x + i * width, word_frequencies[word], width=width, label=word, color=colors[i], alpha=0.7)\n",
        "\n",
        "plt.xlabel(\"q/a pairs\")\n",
        "plt.ylabel(\"Frequency\")\n",
        "plt.title(\"Frequency of Words in Each List\")\n",
        "#plt.xticks(x + 2 * width, [f\"Data Point {i+1}\" for i in range(len(list_of_lists))], rotation=90)\n",
        "plt.legend()\n",
        "plt.tight_layout()\n",
        "plt.show()\n"
      ],
      "metadata": {
        "colab": {
          "base_uri": "https://localhost:8080/",
          "height": 1000
        },
        "id": "q2gMq-dcjUlT",
        "outputId": "2a0e397a-9839-47b6-accf-3b28ab07494b"
      },
      "execution_count": 100,
      "outputs": [
        {
          "output_type": "display_data",
          "data": {
            "text/plain": [
              "<Figure size 2000x1000 with 1 Axes>"
            ],
            "image/png": "[encoded data removed]"
          },
          "metadata": {}
        }
      ]
    },
    {
      "cell_type": "code",
      "source": [],
      "metadata": {
        "id": "itkdbMhljUor"
      },
      "execution_count": null,
      "outputs": []
    },
    {
      "cell_type": "code",
      "source": [],
      "metadata": {
        "id": "YylPhsvlUwOr"
      },
      "execution_count": null,
      "outputs": []
    },
    {
      "cell_type": "code",
      "source": [],
      "metadata": {
        "id": "cWtQ3NMdUwQ9"
      },
      "execution_count": null,
      "outputs": []
    },
    {
      "cell_type": "code",
      "source": [],
      "metadata": {
        "id": "UH-puyHNUwTf"
      },
      "execution_count": null,
      "outputs": []
    },
    {
      "cell_type": "code",
      "source": [],
      "metadata": {
        "id": "rXgspWtlUwWB"
      },
      "execution_count": null,
      "outputs": []
    },
    {
      "cell_type": "code",
      "source": [],
      "metadata": {
        "id": "GulDVb4cUwYe"
      },
      "execution_count": null,
      "outputs": []
    },
    {
      "cell_type": "code",
      "source": [],
      "metadata": {
        "id": "86_Ex0uZUwbZ"
      },
      "execution_count": null,
      "outputs": []
    },
    {
      "cell_type": "code",
      "source": [],
      "metadata": {
        "id": "XlQr_OnkUwec"
      },
      "execution_count": null,
      "outputs": []
    },
    {
      "cell_type": "code",
      "source": [],
      "metadata": {
        "id": "0nwgft_njUy4"
      },
      "execution_count": null,
      "outputs": []
    },
    {
      "cell_type": "code",
      "source": [],
      "metadata": {
        "id": "3b5EAYJLjU1k"
      },
      "execution_count": null,
      "outputs": []
    },
    {
      "cell_type": "code",
      "source": [],
      "metadata": {
        "id": "e9bAIktIjU4q"
      },
      "execution_count": null,
      "outputs": []
    },
    {
      "cell_type": "code",
      "source": [],
      "metadata": {
        "id": "_ZxoY9bAjU8J"
      },
      "execution_count": null,
      "outputs": []
    },
    {
      "cell_type": "code",
      "source": [],
      "metadata": {
        "id": "bFBI1x0jjU_Y"
      },
      "execution_count": null,
      "outputs": []
    },
    {
      "cell_type": "code",
      "source": [],
      "metadata": {
        "id": "dYEGGp2VjVCh"
      },
      "execution_count": null,
      "outputs": []
    },
    {
      "cell_type": "code",
      "source": [],
      "metadata": {
        "id": "H_az9fwSjVFi"
      },
      "execution_count": null,
      "outputs": []
    },
    {
      "cell_type": "code",
      "source": [],
      "metadata": {
        "id": "N6mSm8DyjVJC"
      },
      "execution_count": null,
      "outputs": []
    },
    {
      "cell_type": "code",
      "source": [],
      "metadata": {
        "id": "2MYw_LJbjVLr"
      },
      "execution_count": null,
      "outputs": []
    },
    {
      "cell_type": "code",
      "source": [
        "# import torch\n",
        "# from transformers import AutoModelForSequenceClassification, AutoTokenizer\n",
        "\n",
        "# # Step 1: Load the pre-trained BERT model and tokenizer\n",
        "# model_name = 'bert-base-uncased'\n",
        "# model = AutoModelForSequenceClassification.from_pretrained(model_name)\n",
        "# tokenizer = AutoTokenizer.from_pretrained(model_name)\n",
        "\n",
        "# # Step 2: Function to estimate CEFR complexity level\n",
        "# def estimate_cefr_complexity(text):\n",
        "#     # Step 3: Tokenize the text\n",
        "#     inputs = tokenizer(text, return_tensors=\"pt\")\n",
        "\n",
        "#     # Step 4: Make predictions\n",
        "#     with torch.no_grad():\n",
        "#         outputs = model(**inputs)\n",
        "\n",
        "#     # Step 5: Interpret the results\n",
        "#     probabilities = outputs.logits.softmax(dim=1)\n",
        "#     cefr_levels = ['A1', 'A2', 'B1', 'B2', 'C1', 'C2']\n",
        "#     predicted_cefr_index = probabilities.argmax(dim=1).item()\n",
        "#     predicted_cefr_level = cefr_levels[predicted_cefr_index]\n",
        "\n",
        "#     return predicted_cefr_level\n",
        "\n",
        "# # Step 6: Example usage\n",
        "# text_to_evaluate = \"Over the intermeeting period, foreign financial markets were volatile as investors' focus shifted from resilience in economic activity and stubbornly high core inflation across advanced economies earlier in the period to stresses in the global banking sector more recently. Earlier in the period, yields and market-based measures of inflation expectations in the AFEs increased notably, driven by spillovers from U.S. Treasury yields as well as upside surprises in economic and inflation data for AFEs. Later in the period, developments in the banking sector led to large declines in advanced-economy yields, and, on net, AFE yields declined slightly. Additionally, for the intermeeting period overall, the staff's dollar index rose moderately, corporate and emerging market economy sovereign credit spreads widened, and foreign equity indexes generally moved lower, with bank equities falling notably.U.S. unsecured funding markets showed some signs of pressure later in the intermeeting period. Issuance of commercial paper (CP) and negotiable certificates of deposit (NCDs) dropped a touch over the entire period, and the fraction of CP issuance with overnight maturities increased but remained within normal ranges. Spreads of term CP and NCDs widened some, and spreads for issuers with lower credit ratings rose more, but other unsecured spreads remained within normal ranges. Prime MMFs experienced outflows, while government MMFs had inflows..\"\n",
        "# predicted_cefr_level = estimate_cefr_complexity(text_to_evaluate)\n",
        "\n",
        "# print(\"Input Text:\", text_to_evaluate)\n",
        "# print(\"Predicted CEFR Complexity Level:\", predicted_cefr_level)\n"
      ],
      "metadata": {
        "colab": {
          "base_uri": "https://localhost:8080/"
        },
        "id": "l85Iyob1iyu1",
        "outputId": "9e94f5db-d3d1-42d9-b0b6-962252d490d0"
      },
      "execution_count": 12,
      "outputs": [
        {
          "output_type": "stream",
          "name": "stderr",
          "text": [
            "Some weights of BertForSequenceClassification were not initialized from the model checkpoint at bert-base-uncased and are newly initialized: ['classifier.weight', 'classifier.bias']\n",
            "You should probably TRAIN this model on a down-stream task to be able to use it for predictions and inference.\n"
          ]
        },
        {
          "output_type": "stream",
          "name": "stdout",
          "text": [
            "Input Text: Over the intermeeting period, foreign financial markets were volatile as investors' focus shifted from resilience in economic activity and stubbornly high core inflation across advanced economies earlier in the period to stresses in the global banking sector more recently. Earlier in the period, yields and market-based measures of inflation expectations in the AFEs increased notably, driven by spillovers from U.S. Treasury yields as well as upside surprises in economic and inflation data for AFEs. Later in the period, developments in the banking sector led to large declines in advanced-economy yields, and, on net, AFE yields declined slightly. Additionally, for the intermeeting period overall, the staff's dollar index rose moderately, corporate and emerging market economy sovereign credit spreads widened, and foreign equity indexes generally moved lower, with bank equities falling notably.U.S. unsecured funding markets showed some signs of pressure later in the intermeeting period. Issuance of commercial paper (CP) and negotiable certificates of deposit (NCDs) dropped a touch over the entire period, and the fraction of CP issuance with overnight maturities increased but remained within normal ranges. Spreads of term CP and NCDs widened some, and spreads for issuers with lower credit ratings rose more, but other unsecured spreads remained within normal ranges. Prime MMFs experienced outflows, while government MMFs had inflows..\n",
            "Predicted CEFR Complexity Level: A1\n"
          ]
        }
      ]
    }
  ]
}