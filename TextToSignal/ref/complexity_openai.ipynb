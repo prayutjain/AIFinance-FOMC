{
  "nbformat": 4,
  "nbformat_minor": 0,
  "metadata": {
    "colab": {
      "provenance": [],
      "gpuType": "T4"
    },
    "kernelspec": {
      "name": "python3",
      "display_name": "Python 3"
    },
    "language_info": {
      "name": "python"
    },
    "accelerator": "GPU"
  },
  "cells": [
    {
      "cell_type": "code",
      "execution_count": 6,
      "metadata": {
        "id": "hfoqZnPZY7ft"
      },
      "outputs": [],
      "source": [
        "# !pip install langchain unstructured openai chromadb Cython tiktoken pypdf\n",
        "# !pip install --upgrade langchain\n",
        "# !pip install openai"
      ]
    },
    {
      "cell_type": "code",
      "source": [
        "import os\n",
        "import openai\n",
        "os.environ[\"OPENAI_API_KEY\"] = \"\""
      ],
      "metadata": {
        "id": "ZVfVD0rZZEkU"
      },
      "execution_count": 13,
      "outputs": []
    },
    {
      "cell_type": "code",
      "source": [
        "all_lev=['Over the first several weeks of the intermeeting period, incoming economic data and FOMC communications appeared to refocus market participants on upside risks to inflation and policy rates, with the market-implied policy rate path steepening, nominal Treasury yields rising, near-term inflation compensation measures increasing, and broad stock market price indexes declining. Financing conditions for businesses, households, and municipalities had tightened during this period and were moderately restrictive overall, as borrowing costs increased notably with the expected path of policy rates and Treasury yields and as some lenders appeared to tighten nonprice borrowing terms. Nonetheless, lending volumes were generally solid. Credit quality was strong overall, al­though it had worsened a bit for some borrowers. Expectations for future credit quality continued to deteriorate in some markets.']"
      ],
      "metadata": {
        "id": "FSeuZDpaiPWi"
      },
      "execution_count": 2,
      "outputs": []
    },
    {
      "cell_type": "code",
      "source": [
        "#analyse complexity using open ai api prompts"
      ],
      "metadata": {
        "id": "rAZMfWBbZGkb"
      },
      "execution_count": 7,
      "outputs": []
    },
    {
      "cell_type": "code",
      "source": [
        "import pandas as pd\n",
        "df = pd.read_csv('/content/df_presconf.csv')"
      ],
      "metadata": {
        "id": "95oXv5qkZGnC"
      },
      "execution_count": 8,
      "outputs": []
    },
    {
      "cell_type": "code",
      "source": [],
      "metadata": {
        "id": "WAg86dFsiX4X"
      },
      "execution_count": null,
      "outputs": []
    },
    {
      "cell_type": "code",
      "source": [
        "csv_file_path = r'/content/df_presconf.csv'\n",
        "\n",
        "# Read the CSV file into a pandas DataFrame\n",
        "df = pd.read_csv(csv_file_path, encoding='utf-8')"
      ],
      "metadata": {
        "id": "lE2jWBSahUKj"
      },
      "execution_count": 9,
      "outputs": []
    },
    {
      "cell_type": "code",
      "source": [
        "all_pair=[i for i in df['segment_text']]"
      ],
      "metadata": {
        "id": "DtzvzmEShUOm"
      },
      "execution_count": 10,
      "outputs": []
    },
    {
      "cell_type": "code",
      "source": [
        "len(all_pair)"
      ],
      "metadata": {
        "colab": {
          "base_uri": "https://localhost:8080/"
        },
        "id": "SgaS9d6hhUSF",
        "outputId": "8adb98f6-bc5a-42b4-cb79-904bb29080f8"
      },
      "execution_count": 12,
      "outputs": [
        {
          "output_type": "execute_result",
          "data": {
            "text/plain": [
              "1276"
            ]
          },
          "metadata": {},
          "execution_count": 12
        }
      ]
    },
    {
      "cell_type": "code",
      "source": [
        "#openai.Answer.create()"
      ],
      "metadata": {
        "id": "nDOhJFTwkF_2"
      },
      "execution_count": 10,
      "outputs": []
    },
    {
      "cell_type": "code",
      "source": [
        "#Text complexity\n",
        "text=all_pair[52]\n",
        "prompt = \"What is complexity of the following text: \\\"\" + text + \"\\\" , 1 being the least complex and 5 being the most.\"\n",
        "response = openai.Completion.create(\n",
        "            engine='text-davinci-003',\n",
        "            prompt=prompt,\n",
        "            max_tokens=700,\n",
        "            temperature=0.8,\n",
        "            stop=None\n",
        "        )\n",
        "level = [choice['text'].strip() for choice in response.choices]"
      ],
      "metadata": {
        "id": "4l5SoKacjmBY"
      },
      "execution_count": 20,
      "outputs": []
    },
    {
      "cell_type": "code",
      "source": [
        "level"
      ],
      "metadata": {
        "colab": {
          "base_uri": "https://localhost:8080/"
        },
        "id": "cxYqdLgWk3B1",
        "outputId": "c1a8cf24-adfc-4cfc-97ae-e3cf70a610d7"
      },
      "execution_count": 21,
      "outputs": [
        {
          "output_type": "execute_result",
          "data": {
            "text/plain": [
              "['4']"
            ]
          },
          "metadata": {},
          "execution_count": 21
        }
      ]
    },
    {
      "cell_type": "code",
      "source": [
        "all_response_levels=[]\n",
        "for i in all_pair:\n",
        "  text=i\n",
        "  prompt = \"What is complexity of the following text: \\\"\" + text + \"\\\" , 1 being the least complex and 5 being the most.\"\n",
        "  response = openai.Completion.create(\n",
        "              engine='text-davinci-003',\n",
        "              prompt=prompt,\n",
        "              max_tokens=700,\n",
        "              temperature=0.8,\n",
        "              stop=None\n",
        "          )\n",
        "  levell = [choice['text'].strip() for choice in response.choices]\n",
        "  all_response_levels.append(levell)"
      ],
      "metadata": {
        "id": "5KCPj8po2lVq"
      },
      "execution_count": null,
      "outputs": []
    },
    {
      "cell_type": "code",
      "source": [
        "df['level']= all_response_levels"
      ],
      "metadata": {
        "id": "ABZF9Hl1nWB4"
      },
      "execution_count": null,
      "outputs": []
    },
    {
      "cell_type": "code",
      "source": [
        "df['level'].value_counts()"
      ],
      "metadata": {
        "id": "DSnPE76onWE9"
      },
      "execution_count": null,
      "outputs": []
    },
    {
      "cell_type": "code",
      "source": [
        "df.head()"
      ],
      "metadata": {
        "id": "e-7ExVgKnWIF"
      },
      "execution_count": null,
      "outputs": []
    },
    {
      "cell_type": "code",
      "source": [
        "df.to_csv('complexity_levels.csv')"
      ],
      "metadata": {
        "id": "pqWNP4urnWLr"
      },
      "execution_count": null,
      "outputs": []
    }
  ]
}