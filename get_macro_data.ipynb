{
 "cells": [
  {
   "cell_type": "code",
   "execution_count": 1,
   "metadata": {},
   "outputs": [],
   "source": [
    "#!pip install fredapi\n",
    "#!pip install quandl\n"
   ]
  },
  {
   "cell_type": "code",
   "execution_count": 16,
   "metadata": {},
   "outputs": [],
   "source": [
    "import pandas as pd\n",
    "\n",
    "# Load data from pickle file\n",
    "df = pd.read_pickle('/Users/pandita/Documents/AIFinance-FOMC/data/raw_data1.pkl')"
   ]
  },
  {
   "cell_type": "code",
   "execution_count": 17,
   "metadata": {},
   "outputs": [],
   "source": [
    "meeting_dates = df['date'].unique()"
   ]
  },
  {
   "cell_type": "code",
   "execution_count": 18,
   "metadata": {},
   "outputs": [],
   "source": [
    "# Convert the meeting dates - 1 to pandas Timestamps\n",
    "meeting_dates = pd.to_datetime(meeting_dates) - pd.DateOffset(days=1)"
   ]
  },
  {
   "cell_type": "code",
   "execution_count": 19,
   "metadata": {},
   "outputs": [],
   "source": [
    "from fredapi import Fred\n",
    "from datetime import datetime\n",
    "import pandas as pd"
   ]
  },
  {
   "cell_type": "code",
   "execution_count": 20,
   "metadata": {},
   "outputs": [],
   "source": [
    "fred = Fred(api_key='bacbd35093fa858b1039e16e98d3225d')"
   ]
  },
  {
   "cell_type": "code",
   "execution_count": 23,
   "metadata": {},
   "outputs": [],
   "source": [
    "# list of series ids for the required economic indicators\n",
    "series_ids = {\n",
    "    'CPI': 'CPIAUCSL',  # Consumer Price Index for All Urban Consumers: All Items in U.S. City Average\n",
    "    'PPI': 'PPIACO',  # Producer Price Index by Commodity: All Commodities\n",
    "    'GDP': 'GDP',  # Gross Domestic Product\n",
    "    'Unemployment Rate': 'UNRATE',  # Unemployment Rate\n",
    "    'Retail sales': 'RSAFS',  # Retail and Food Services Sales\n",
    "    'Building Permits': 'PERMIT',  # New Private Housing Units Authorized by Building Permits\n",
    "    'Existing home sales': 'EXHOSLUSM495S',  # Existing Home Sales\n",
    "    'New home sales': 'HSN1F',  # New One Family Houses Sold: United States\n",
    "    'PCE Inflation': 'PCEPILFE',  # Personal Consumption Expenditures: Chain-type Price Index\\\n",
    "    'Federal Funds Target Range':  'DFEDTARL',\n",
    "    'Federal Funds Target Range': 'DFEDTARU',  \n",
    "    'Federal Funds Effective Rate': 'DFF'\n",
    "}"
   ]
  },
  {
   "cell_type": "code",
   "execution_count": 24,
   "metadata": {},
   "outputs": [],
   "source": [
    "# Create a dataframe to store the data\n",
    "data = pd.DataFrame(index=meeting_dates)\n",
    "\n",
    "# Fetch the data for each series and add it to the dataframe\n",
    "for name, series_id in series_ids.items():\n",
    "    # Get the data series\n",
    "    series = fred.get_series(series_id)\n",
    "    \n",
    "    # Reindex the series to the meeting dates, forward filling any missing values\n",
    "    series = series.reindex(meeting_dates, method='ffill')\n",
    "    \n",
    "    # Add the series to the data frame\n",
    "    data[name] = series"
   ]
  },
  {
   "cell_type": "code",
   "execution_count": 25,
   "metadata": {},
   "outputs": [],
   "source": [
    "import quandl\n",
    "# Set your API key\n",
    "quandl.ApiConfig.api_key = 'nV2kQusAxBWcx3HojUXt'\n"
   ]
  },
  {
   "cell_type": "code",
   "execution_count": 26,
   "metadata": {},
   "outputs": [],
   "source": [
    "quandle_series_ids = {\n",
    "    'Manufacturing PMI': 'ISM/MAN_PMI',\n",
    "    'Non Manufcaturing PMI': 'ISM/NONMAN_NMI'\n",
    "}\n",
    "\n",
    "for name, series_id in quandle_series_ids.items():\n",
    "    # Get the data series\n",
    "    series = quandl.get(series_id)\n",
    "    \n",
    "    # Reindex the series to the meeting dates, forward filling any missing values\n",
    "    series = series.reindex(meeting_dates, method='ffill')\n",
    "    \n",
    "    # Add the series to the data frame\n",
    "    data[name] = series"
   ]
  },
  {
   "cell_type": "code",
   "execution_count": 28,
   "metadata": {},
   "outputs": [
    {
     "data": {
      "text/html": [
       "<div>\n",
       "<style scoped>\n",
       "    .dataframe tbody tr th:only-of-type {\n",
       "        vertical-align: middle;\n",
       "    }\n",
       "\n",
       "    .dataframe tbody tr th {\n",
       "        vertical-align: top;\n",
       "    }\n",
       "\n",
       "    .dataframe thead th {\n",
       "        text-align: right;\n",
       "    }\n",
       "</style>\n",
       "<table border=\"1\" class=\"dataframe\">\n",
       "  <thead>\n",
       "    <tr style=\"text-align: right;\">\n",
       "      <th></th>\n",
       "      <th>CPI</th>\n",
       "      <th>PPI</th>\n",
       "      <th>GDP</th>\n",
       "      <th>Unemployment Rate</th>\n",
       "      <th>Retail sales</th>\n",
       "      <th>Building Permits</th>\n",
       "      <th>Existing home sales</th>\n",
       "      <th>New home sales</th>\n",
       "      <th>PCE Inflation</th>\n",
       "      <th>Federal Funds Target Range</th>\n",
       "      <th>Federal Funds Effective Rate</th>\n",
       "      <th>Manufacturing PMI</th>\n",
       "      <th>Non Manufcaturing PMI</th>\n",
       "    </tr>\n",
       "  </thead>\n",
       "  <tbody>\n",
       "    <tr>\n",
       "      <th>2022-12-13</th>\n",
       "      <td>298.990</td>\n",
       "      <td>257.897</td>\n",
       "      <td>26137.992</td>\n",
       "      <td>3.5</td>\n",
       "      <td>673619.0</td>\n",
       "      <td>1409.0</td>\n",
       "      <td>4030000.0</td>\n",
       "      <td>636.0</td>\n",
       "      <td>125.746</td>\n",
       "      <td>4.00</td>\n",
       "      <td>3.83</td>\n",
       "      <td>57.1</td>\n",
       "      <td>58.3</td>\n",
       "    </tr>\n",
       "    <tr>\n",
       "      <th>2023-01-31</th>\n",
       "      <td>300.536</td>\n",
       "      <td>260.227</td>\n",
       "      <td>26486.287</td>\n",
       "      <td>3.4</td>\n",
       "      <td>692501.0</td>\n",
       "      <td>1354.0</td>\n",
       "      <td>4000000.0</td>\n",
       "      <td>649.0</td>\n",
       "      <td>126.438</td>\n",
       "      <td>4.50</td>\n",
       "      <td>4.33</td>\n",
       "      <td>57.1</td>\n",
       "      <td>58.3</td>\n",
       "    </tr>\n",
       "    <tr>\n",
       "      <th>2023-03-21</th>\n",
       "      <td>301.808</td>\n",
       "      <td>257.071</td>\n",
       "      <td>26486.287</td>\n",
       "      <td>3.5</td>\n",
       "      <td>681673.0</td>\n",
       "      <td>1437.0</td>\n",
       "      <td>4430000.0</td>\n",
       "      <td>656.0</td>\n",
       "      <td>127.278</td>\n",
       "      <td>4.75</td>\n",
       "      <td>4.58</td>\n",
       "      <td>57.1</td>\n",
       "      <td>58.3</td>\n",
       "    </tr>\n",
       "    <tr>\n",
       "      <th>2023-05-02</th>\n",
       "      <td>303.294</td>\n",
       "      <td>253.954</td>\n",
       "      <td>26486.287</td>\n",
       "      <td>3.7</td>\n",
       "      <td>686573.0</td>\n",
       "      <td>1491.0</td>\n",
       "      <td>4300000.0</td>\n",
       "      <td>683.0</td>\n",
       "      <td>127.762</td>\n",
       "      <td>5.00</td>\n",
       "      <td>4.83</td>\n",
       "      <td>57.1</td>\n",
       "      <td>58.3</td>\n",
       "    </tr>\n",
       "    <tr>\n",
       "      <th>2023-06-13</th>\n",
       "      <td>303.294</td>\n",
       "      <td>253.954</td>\n",
       "      <td>26486.287</td>\n",
       "      <td>3.7</td>\n",
       "      <td>686573.0</td>\n",
       "      <td>1491.0</td>\n",
       "      <td>4300000.0</td>\n",
       "      <td>683.0</td>\n",
       "      <td>127.762</td>\n",
       "      <td>5.25</td>\n",
       "      <td>5.08</td>\n",
       "      <td>57.1</td>\n",
       "      <td>58.3</td>\n",
       "    </tr>\n",
       "  </tbody>\n",
       "</table>\n",
       "</div>"
      ],
      "text/plain": [
       "                CPI      PPI        GDP  Unemployment Rate  Retail sales  \\\n",
       "2022-12-13  298.990  257.897  26137.992                3.5      673619.0   \n",
       "2023-01-31  300.536  260.227  26486.287                3.4      692501.0   \n",
       "2023-03-21  301.808  257.071  26486.287                3.5      681673.0   \n",
       "2023-05-02  303.294  253.954  26486.287                3.7      686573.0   \n",
       "2023-06-13  303.294  253.954  26486.287                3.7      686573.0   \n",
       "\n",
       "            Building Permits  Existing home sales  New home sales  \\\n",
       "2022-12-13            1409.0            4030000.0           636.0   \n",
       "2023-01-31            1354.0            4000000.0           649.0   \n",
       "2023-03-21            1437.0            4430000.0           656.0   \n",
       "2023-05-02            1491.0            4300000.0           683.0   \n",
       "2023-06-13            1491.0            4300000.0           683.0   \n",
       "\n",
       "            PCE Inflation  Federal Funds Target Range  \\\n",
       "2022-12-13        125.746                        4.00   \n",
       "2023-01-31        126.438                        4.50   \n",
       "2023-03-21        127.278                        4.75   \n",
       "2023-05-02        127.762                        5.00   \n",
       "2023-06-13        127.762                        5.25   \n",
       "\n",
       "            Federal Funds Effective Rate  Manufacturing PMI  \\\n",
       "2022-12-13                          3.83               57.1   \n",
       "2023-01-31                          4.33               57.1   \n",
       "2023-03-21                          4.58               57.1   \n",
       "2023-05-02                          4.83               57.1   \n",
       "2023-06-13                          5.08               57.1   \n",
       "\n",
       "            Non Manufcaturing PMI  \n",
       "2022-12-13                   58.3  \n",
       "2023-01-31                   58.3  \n",
       "2023-03-21                   58.3  \n",
       "2023-05-02                   58.3  \n",
       "2023-06-13                   58.3  "
      ]
     },
     "execution_count": 28,
     "metadata": {},
     "output_type": "execute_result"
    }
   ],
   "source": [
    "data.tail()"
   ]
  },
  {
   "cell_type": "code",
   "execution_count": 29,
   "metadata": {},
   "outputs": [],
   "source": [
    "data.to_csv('/Users/pandita/Documents/AIFinance-FOMC/data/macro_data.csv')"
   ]
  },
  {
   "cell_type": "code",
   "execution_count": null,
   "metadata": {},
   "outputs": [],
   "source": []
  }
 ],
 "metadata": {
  "kernelspec": {
   "display_name": "Python 3 (ipykernel)",
   "language": "python",
   "name": "python3"
  },
  "language_info": {
   "codemirror_mode": {
    "name": "ipython",
    "version": 3
   },
   "file_extension": ".py",
   "mimetype": "text/x-python",
   "name": "python",
   "nbconvert_exporter": "python",
   "pygments_lexer": "ipython3",
   "version": "3.9.12"
  },
  "orig_nbformat": 4
 },
 "nbformat": 4,
 "nbformat_minor": 2
}
