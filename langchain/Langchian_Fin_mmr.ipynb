{
  "cells": [
    {
      "cell_type": "code",
      "execution_count": 22,
      "metadata": {
        "colab": {
          "base_uri": "https://localhost:8080/"
        },
        "id": "siV2lc4m7-28",
        "outputId": "06e79824-ef5e-452d-df75-de6404e28c1c"
      },
      "outputs": [],
      "source": [
        "#!pip install openai"
      ]
    },
    {
      "cell_type": "code",
      "execution_count": 23,
      "metadata": {
        "colab": {
          "base_uri": "https://localhost:8080/"
        },
        "id": "qxjwPVuf7QFs",
        "outputId": "a042e732-e71c-4ddf-b3aa-94c9e7fb4035"
      },
      "outputs": [],
      "source": [
        "#!pip -q install langchain tiktoken chromadb pypdf transformers InstructorEmbedding sentence_transformers"
      ]
    },
    {
      "cell_type": "code",
      "execution_count": 24,
      "metadata": {},
      "outputs": [],
      "source": [
        "#!pip install langchain --upgrade"
      ]
    },
    {
      "cell_type": "code",
      "execution_count": 25,
      "metadata": {
        "colab": {
          "base_uri": "https://localhost:8080/"
        },
        "id": "qo2r7Pvc7Rue",
        "outputId": "ea96e874-efb1-4796-a38d-871b6028d7c2"
      },
      "outputs": [],
      "source": [
        "#!pip -q install accelerate bitsandbytes sentencepiece google.generativeai tensorflow_text"
      ]
    },
    {
      "cell_type": "code",
      "execution_count": 26,
      "metadata": {},
      "outputs": [],
      "source": [
        "!#pip install langchain --upgrade"
      ]
    },
    {
      "cell_type": "code",
      "execution_count": 27,
      "metadata": {},
      "outputs": [],
      "source": [
        "#!pip install faiss-cpu tabulate"
      ]
    },
    {
      "cell_type": "code",
      "execution_count": 1,
      "metadata": {
        "id": "FqmWWxTC-n28"
      },
      "outputs": [],
      "source": [
        "from langchain import PromptTemplate, LLMChain\n",
        "from langchain.agents import initialize_agent, Tool\n",
        "from langchain.agents import AgentType\n",
        "from langchain.chains import RetrievalQA\n",
        "from langchain.document_loaders import DataFrameLoader\n",
        "from langchain.document_transformers import EmbeddingsRedundantFilter\n",
        "from langchain.llms import OpenAI\n",
        "from langchain.embeddings.openai import OpenAIEmbeddings\n",
        "from langchain.retrievers import ContextualCompressionRetriever\n",
        "from langchain.retrievers.document_compressors import EmbeddingsFilter\n",
        "from langchain.retrievers.document_compressors import DocumentCompressorPipeline\n",
        "from langchain.text_splitter import RecursiveCharacterTextSplitter\n",
        "from langchain.utilities import GoogleSerperAPIWrapper\n",
        "from langchain.vectorstores import FAISS\n",
        "\n",
        "import pandas as pd\n",
        "import os\n",
        "os.environ[\"OPENAI_API_KEY\"] = \"\""
      ]
    },
    {
      "cell_type": "code",
      "execution_count": 2,
      "metadata": {},
      "outputs": [],
      "source": [
        "df = pd.read_pickle(\"../data/raw_data1.pkl\")  "
      ]
    },
    {
      "cell_type": "code",
      "execution_count": 3,
      "metadata": {},
      "outputs": [
        {
          "name": "stdout",
          "output_type": "stream",
          "text": [
            "<class 'pandas.core.frame.DataFrame'>\n",
            "Int64Index: 852 entries, 0 to 402\n",
            "Data columns (total 6 columns):\n",
            " #   Column    Non-Null Count  Dtype         \n",
            "---  ------    --------------  -----         \n",
            " 0   date      852 non-null    datetime64[ns]\n",
            " 1   source    852 non-null    object        \n",
            " 2   text      852 non-null    object        \n",
            " 3   title     852 non-null    object        \n",
            " 4   chairman  852 non-null    object        \n",
            " 5   variable  852 non-null    object        \n",
            "dtypes: datetime64[ns](1), object(5)\n",
            "memory usage: 46.6+ KB\n"
          ]
        }
      ],
      "source": [
        "df.info()"
      ]
    },
    {
      "cell_type": "code",
      "execution_count": 4,
      "metadata": {},
      "outputs": [],
      "source": [
        "df['source'] = df['date'].dt.strftime('%Y-%m-%d') + '_' + df['variable']  # Concatenate \"date\" and \"variable\" columns"
      ]
    },
    {
      "cell_type": "code",
      "execution_count": 5,
      "metadata": {},
      "outputs": [],
      "source": [
        "# Split the text into paragraphs\n",
        "df['paragraphs'] = df['text'].apply(lambda x: x.split('\\n'))"
      ]
    },
    {
      "cell_type": "code",
      "execution_count": 71,
      "metadata": {},
      "outputs": [],
      "source": [
        "# Explode the DataFrame on the 'paragraphs' column\n",
        "df_exploded = df.explode('paragraphs')"
      ]
    },
    {
      "cell_type": "code",
      "execution_count": 20,
      "metadata": {},
      "outputs": [],
      "source": [
        "from sklearn.feature_extraction.text import CountVectorizer\n",
        "from sklearn.decomposition import LatentDirichletAllocation\n",
        "\n",
        "# Vectorize the paragraphs\n",
        "vectorizer = CountVectorizer(stop_words='english')\n",
        "data_vectorized = vectorizer.fit_transform(df_exploded['paragraphs'])\n",
        "\n",
        "# Apply LDA\n",
        "lda_model = LatentDirichletAllocation(n_components=10, random_state=0)\n",
        "lda_model.fit(data_vectorized)\n",
        "\n",
        "# Create a DataFrame with the topic probabilities for each paragraph\n",
        "df_topics = pd.DataFrame(lda_model.transform(data_vectorized))"
      ]
    },
    {
      "cell_type": "code",
      "execution_count": 73,
      "metadata": {},
      "outputs": [],
      "source": [
        "# Reset the index of df_exploded\n",
        "df_exploded.reset_index(drop=True, inplace=True)\n",
        "\n",
        "# Now you can concatenate df_exploded and df_topics\n",
        "df_exploded = pd.concat([df_exploded, df_topics], axis=1)"
      ]
    },
    {
      "cell_type": "code",
      "execution_count": 74,
      "metadata": {},
      "outputs": [],
      "source": [
        "# Get the feature names\n",
        "tf_feature_names = [word for word, index in sorted(vectorizer.vocabulary_.items(), key=lambda item: item[1])]\n",
        "\n",
        "# Get the top words for each topi|c\n",
        "topics = [[(tf_feature_names[i], topic[i]) \n",
        "            for i in topic.argsort()[:-5 - 1:-1]] \n",
        "          for topic_idx, topic in enumerate(lda_model.components_)]\n",
        "\n",
        "# Step 1 & 2: Identify the maximum probability and corresponding topic\n",
        "df_exploded['dominant_topic'] = df_exploded[[0, 1, 2, 3, 4, 5, 6, 7, 8, 9]].idxmax(axis=1)\n",
        "df_exploded['dominant_topic'] = df_exploded['dominant_topic'].astype(str)\n",
        "\n",
        "# Map the topic names to their textual representation\n",
        "topics_dict = {str(i): '|'.join([word for word, _ in topic]) for i, topic in enumerate(topics)}  \n",
        "df_exploded['dominant_topic'] = df_exploded['dominant_topic'].map(topics_dict)"
      ]
    },
    {
      "cell_type": "code",
      "execution_count": 75,
      "metadata": {},
      "outputs": [],
      "source": [
        "df_exploded.drop(columns=[0, 1, 2, 3, 4, 5, 6, 7, 8, 9], inplace=True)"
      ]
    },
    {
      "cell_type": "code",
      "execution_count": 76,
      "metadata": {},
      "outputs": [
        {
          "data": {
            "text/html": [
              "<div>\n",
              "<style scoped>\n",
              "    .dataframe tbody tr th:only-of-type {\n",
              "        vertical-align: middle;\n",
              "    }\n",
              "\n",
              "    .dataframe tbody tr th {\n",
              "        vertical-align: top;\n",
              "    }\n",
              "\n",
              "    .dataframe thead th {\n",
              "        text-align: right;\n",
              "    }\n",
              "</style>\n",
              "<table border=\"1\" class=\"dataframe\">\n",
              "  <thead>\n",
              "    <tr style=\"text-align: right;\">\n",
              "      <th></th>\n",
              "      <th>date</th>\n",
              "      <th>source</th>\n",
              "      <th>text</th>\n",
              "      <th>title</th>\n",
              "      <th>chairman</th>\n",
              "      <th>variable</th>\n",
              "      <th>paragraphs</th>\n",
              "      <th>dominant_topic</th>\n",
              "    </tr>\n",
              "  </thead>\n",
              "  <tbody>\n",
              "    <tr>\n",
              "      <th>0</th>\n",
              "      <td>1994-02-04</td>\n",
              "      <td>1994-02-04_fomc_minutes</td>\n",
              "      <td>\\n\\n\\n\\nFRB: FOMC Minutes--February 3-4, 1994\\...</td>\n",
              "      <td>Minutes of the Federal Open Market Committee</td>\n",
              "      <td>Alan Greenspan</td>\n",
              "      <td>fomc_minutes</td>\n",
              "      <td></td>\n",
              "      <td>mr|statement|january|30|29</td>\n",
              "    </tr>\n",
              "    <tr>\n",
              "      <th>1</th>\n",
              "      <td>1994-02-04</td>\n",
              "      <td>1994-02-04_fomc_minutes</td>\n",
              "      <td>\\n\\n\\n\\nFRB: FOMC Minutes--February 3-4, 1994\\...</td>\n",
              "      <td>Minutes of the Federal Open Market Committee</td>\n",
              "      <td>Alan Greenspan</td>\n",
              "      <td>fomc_minutes</td>\n",
              "      <td></td>\n",
              "      <td>mr|statement|january|30|29</td>\n",
              "    </tr>\n",
              "    <tr>\n",
              "      <th>2</th>\n",
              "      <td>1994-02-04</td>\n",
              "      <td>1994-02-04_fomc_minutes</td>\n",
              "      <td>\\n\\n\\n\\nFRB: FOMC Minutes--February 3-4, 1994\\...</td>\n",
              "      <td>Minutes of the Federal Open Market Committee</td>\n",
              "      <td>Alan Greenspan</td>\n",
              "      <td>fomc_minutes</td>\n",
              "      <td></td>\n",
              "      <td>mr|statement|january|30|29</td>\n",
              "    </tr>\n",
              "    <tr>\n",
              "      <th>3</th>\n",
              "      <td>1994-02-04</td>\n",
              "      <td>1994-02-04_fomc_minutes</td>\n",
              "      <td>\\n\\n\\n\\nFRB: FOMC Minutes--February 3-4, 1994\\...</td>\n",
              "      <td>Minutes of the Federal Open Market Committee</td>\n",
              "      <td>Alan Greenspan</td>\n",
              "      <td>fomc_minutes</td>\n",
              "      <td></td>\n",
              "      <td>mr|statement|january|30|29</td>\n",
              "    </tr>\n",
              "    <tr>\n",
              "      <th>4</th>\n",
              "      <td>1994-02-04</td>\n",
              "      <td>1994-02-04_fomc_minutes</td>\n",
              "      <td>\\n\\n\\n\\nFRB: FOMC Minutes--February 3-4, 1994\\...</td>\n",
              "      <td>Minutes of the Federal Open Market Committee</td>\n",
              "      <td>Alan Greenspan</td>\n",
              "      <td>fomc_minutes</td>\n",
              "      <td>FRB: FOMC Minutes--February 3-4, 1994</td>\n",
              "      <td>mr|statement|january|30|29</td>\n",
              "    </tr>\n",
              "  </tbody>\n",
              "</table>\n",
              "</div>"
            ],
            "text/plain": [
              "        date                   source  \\\n",
              "0 1994-02-04  1994-02-04_fomc_minutes   \n",
              "1 1994-02-04  1994-02-04_fomc_minutes   \n",
              "2 1994-02-04  1994-02-04_fomc_minutes   \n",
              "3 1994-02-04  1994-02-04_fomc_minutes   \n",
              "4 1994-02-04  1994-02-04_fomc_minutes   \n",
              "\n",
              "                                                text  \\\n",
              "0  \\n\\n\\n\\nFRB: FOMC Minutes--February 3-4, 1994\\...   \n",
              "1  \\n\\n\\n\\nFRB: FOMC Minutes--February 3-4, 1994\\...   \n",
              "2  \\n\\n\\n\\nFRB: FOMC Minutes--February 3-4, 1994\\...   \n",
              "3  \\n\\n\\n\\nFRB: FOMC Minutes--February 3-4, 1994\\...   \n",
              "4  \\n\\n\\n\\nFRB: FOMC Minutes--February 3-4, 1994\\...   \n",
              "\n",
              "                                          title        chairman      variable  \\\n",
              "0  Minutes of the Federal Open Market Committee  Alan Greenspan  fomc_minutes   \n",
              "1  Minutes of the Federal Open Market Committee  Alan Greenspan  fomc_minutes   \n",
              "2  Minutes of the Federal Open Market Committee  Alan Greenspan  fomc_minutes   \n",
              "3  Minutes of the Federal Open Market Committee  Alan Greenspan  fomc_minutes   \n",
              "4  Minutes of the Federal Open Market Committee  Alan Greenspan  fomc_minutes   \n",
              "\n",
              "                              paragraphs              dominant_topic  \n",
              "0                                         mr|statement|january|30|29  \n",
              "1                                         mr|statement|january|30|29  \n",
              "2                                         mr|statement|january|30|29  \n",
              "3                                         mr|statement|january|30|29  \n",
              "4  FRB: FOMC Minutes--February 3-4, 1994  mr|statement|january|30|29  "
            ]
          },
          "execution_count": 76,
          "metadata": {},
          "output_type": "execute_result"
        }
      ],
      "source": [
        "df_exploded.head()"
      ]
    },
    {
      "cell_type": "code",
      "execution_count": 81,
      "metadata": {},
      "outputs": [],
      "source": [
        "# save df_exploded to csv\n",
        "df_exploded.to_csv('../data/df_exploded.csv', index=False)"
      ]
    },
    {
      "cell_type": "code",
      "execution_count": 59,
      "metadata": {
        "id": "mQuTT9Q7-oi9"
      },
      "outputs": [],
      "source": [
        "llm = OpenAI(model_name=\"text-davinci-003\", n=2,temperature=0.1, best_of=2, max_tokens=2048)"
      ]
    },
    {
      "cell_type": "code",
      "execution_count": 60,
      "metadata": {},
      "outputs": [],
      "source": [
        "dates_template = \"\"\"The dataframe contains data from FOMC statements, minutes, press conference rows each identified by a unique date (in the format YYYY-MM-DD) and a variable.\n",
        " The other columns are 'source', 'text', 'title', and 'chairman'. \n",
        "Based on a user's query, you need to return the appropriate 'year' and 'month'separated by a comma.\n",
        "\n",
        "User's Query: {query}  \n",
        "Answer: \"\"\"\n",
        "\n",
        "\n",
        "dates_prompt = PromptTemplate(template=dates_template, input_variables=[\"query\"])\n",
        "dates_chain = LLMChain(prompt=dates_prompt, llm=llm)"
      ]
    },
    {
      "cell_type": "code",
      "execution_count": 82,
      "metadata": {},
      "outputs": [],
      "source": [
        "topics_template = \"\"\"The dataframe contains data from FOMC statements, minutes, press conference divided into paras into each row. \n",
        "The columns are 'date', 'variable', 'source', 'text', 'title', and 'chairman'. \n",
        "The dataframe also includes topic probabilities for each paragraph.\n",
        "Based on a user's query and a list of topics, return the TOP 5 most relevant topics needed to answer user's query separated by comma.\n",
        "\n",
        "List of Topics: {topics}\n",
        "User's Query: {query}  \n",
        "Answer: \"\"\"\n",
        "\n",
        "topics_prompt = PromptTemplate(template=topics_template, input_variables=[\"topics\", \"query\"])\n",
        "topics_chain = LLMChain(prompt=topics_prompt, llm=llm)"
      ]
    },
    {
      "cell_type": "code",
      "execution_count": 83,
      "metadata": {},
      "outputs": [],
      "source": [
        "def get_topics_from_query(topics_string, question):\n",
        "    topics = topics_string.split('|')\n",
        "    response = topics_chain.run({\"topics\": topics, \"query\": question})\n",
        "    # Assuming the response is the most relevant topics separated by comma\n",
        "    relevant_topics = response.split(',')\n",
        "    return relevant_topics"
      ]
    },
    {
      "cell_type": "code",
      "execution_count": 88,
      "metadata": {},
      "outputs": [],
      "source": [
        "def get_rows_from_query(df, question):\n",
        "    response = dates_chain.run(question)\n",
        "    # Assuming the response is in the format \"year,month\"\n",
        "    year, month = response.split(',')\n",
        "    # Filter the dataframe based on the date\n",
        "    relevant_rows = df[(df['date'].dt.year == int(year)) & (df['date'].dt.month == int(month))]\n",
        "\n",
        "    # Get a list of unique topics from the relevant rows\n",
        "    topics_string = '|'.join(relevant_rows['dominant_topic'].unique().tolist())\n",
        "\n",
        "    # Get the most relevant topics for the query\n",
        "    relevant_topics = get_topics_from_query(topics_string, question)\n",
        "    relevant_topics = [topic.strip() for topic in relevant_topics]\n",
        "\n",
        "    # Filter the relevant rows based on the most relevant topics\n",
        "    relevant_rows = relevant_rows[relevant_rows['dominant_topic'].apply(lambda x: any(topic in x for topic in relevant_topics))]\n",
        "\n",
        "    return relevant_rows"
      ]
    },
    {
      "cell_type": "code",
      "execution_count": 89,
      "metadata": {},
      "outputs": [
        {
          "data": {
            "text/html": [
              "<div>\n",
              "<style scoped>\n",
              "    .dataframe tbody tr th:only-of-type {\n",
              "        vertical-align: middle;\n",
              "    }\n",
              "\n",
              "    .dataframe tbody tr th {\n",
              "        vertical-align: top;\n",
              "    }\n",
              "\n",
              "    .dataframe thead th {\n",
              "        text-align: right;\n",
              "    }\n",
              "</style>\n",
              "<table border=\"1\" class=\"dataframe\">\n",
              "  <thead>\n",
              "    <tr style=\"text-align: right;\">\n",
              "      <th></th>\n",
              "      <th>date</th>\n",
              "      <th>source</th>\n",
              "      <th>text</th>\n",
              "      <th>title</th>\n",
              "      <th>chairman</th>\n",
              "      <th>variable</th>\n",
              "      <th>paragraphs</th>\n",
              "      <th>dominant_topic</th>\n",
              "    </tr>\n",
              "  </thead>\n",
              "  <tbody>\n",
              "    <tr>\n",
              "      <th>910902</th>\n",
              "      <td>2023-02-01</td>\n",
              "      <td>2023-02-01_fomc_presconf</td>\n",
              "      <td>February 1, 2023   Chair Powell’s Press Confer...</td>\n",
              "      <td>Press Conference Transcript</td>\n",
              "      <td>Jerome H. Powell</td>\n",
              "      <td>fomc_presconf</td>\n",
              "      <td>Page 1 of 23</td>\n",
              "      <td>market|federal|reserve|committee|open</td>\n",
              "    </tr>\n",
              "    <tr>\n",
              "      <th>910906</th>\n",
              "      <td>2023-02-01</td>\n",
              "      <td>2023-02-01_fomc_presconf</td>\n",
              "      <td>February 1, 2023   Chair Powell’s Press Confer...</td>\n",
              "      <td>Press Conference Transcript</td>\n",
              "      <td>Jerome H. Powell</td>\n",
              "      <td>fomc_presconf</td>\n",
              "      <td>CHAIR POWELL .  Good afternoon, and welcome.  ...</td>\n",
              "      <td>mr|chairman|thank|president|board</td>\n",
              "    </tr>\n",
              "    <tr>\n",
              "      <th>910907</th>\n",
              "      <td>2023-02-01</td>\n",
              "      <td>2023-02-01_fomc_presconf</td>\n",
              "      <td>February 1, 2023   Chair Powell’s Press Confer...</td>\n",
              "      <td>Press Conference Transcript</td>\n",
              "      <td>Jerome H. Powell</td>\n",
              "      <td>fomc_presconf</td>\n",
              "      <td>hardship that high inflation is causing, and w...</td>\n",
              "      <td>policy|inflation|monetary|committee|term</td>\n",
              "    </tr>\n",
              "    <tr>\n",
              "      <th>910908</th>\n",
              "      <td>2023-02-01</td>\n",
              "      <td>2023-02-01_fomc_presconf</td>\n",
              "      <td>February 1, 2023   Chair Powell’s Press Confer...</td>\n",
              "      <td>Press Conference Transcript</td>\n",
              "      <td>Jerome H. Powell</td>\n",
              "      <td>fomc_presconf</td>\n",
              "      <td>down to our 2 percent goal.  Over the past yea...</td>\n",
              "      <td>policy|inflation|monetary|committee|term</td>\n",
              "    </tr>\n",
              "    <tr>\n",
              "      <th>910909</th>\n",
              "      <td>2023-02-01</td>\n",
              "      <td>2023-02-01_fomc_presconf</td>\n",
              "      <td>February 1, 2023   Chair Powell’s Press Confer...</td>\n",
              "      <td>Press Conference Transcript</td>\n",
              "      <td>Jerome H. Powell</td>\n",
              "      <td>fomc_presconf</td>\n",
              "      <td>stance of monetary policy.  We have covered a ...</td>\n",
              "      <td>policy|inflation|monetary|committee|term</td>\n",
              "    </tr>\n",
              "    <tr>\n",
              "      <th>...</th>\n",
              "      <td>...</td>\n",
              "      <td>...</td>\n",
              "      <td>...</td>\n",
              "      <td>...</td>\n",
              "      <td>...</td>\n",
              "      <td>...</td>\n",
              "      <td>...</td>\n",
              "      <td>...</td>\n",
              "    </tr>\n",
              "    <tr>\n",
              "      <th>911833</th>\n",
              "      <td>2023-02-01</td>\n",
              "      <td>2023-02-01_fomc_statements</td>\n",
              "      <td>inks provided below. \\n\\n\\n\\n\\n\\n\\nFebruary 01...</td>\n",
              "      <td>Federal Reserve issues FOMC statement</td>\n",
              "      <td>Jerome H. Powell</td>\n",
              "      <td>fomc_statements</td>\n",
              "      <td>Link to Federal Reserve YouTube Page</td>\n",
              "      <td>market|federal|reserve|committee|open</td>\n",
              "    </tr>\n",
              "    <tr>\n",
              "      <th>911834</th>\n",
              "      <td>2023-02-01</td>\n",
              "      <td>2023-02-01_fomc_statements</td>\n",
              "      <td>inks provided below. \\n\\n\\n\\n\\n\\n\\nFebruary 01...</td>\n",
              "      <td>Federal Reserve issues FOMC statement</td>\n",
              "      <td>Jerome H. Powell</td>\n",
              "      <td>fomc_statements</td>\n",
              "      <td>Link to Federal Reserve Flickr Page</td>\n",
              "      <td>market|federal|reserve|committee|open</td>\n",
              "    </tr>\n",
              "    <tr>\n",
              "      <th>911835</th>\n",
              "      <td>2023-02-01</td>\n",
              "      <td>2023-02-01_fomc_statements</td>\n",
              "      <td>inks provided below. \\n\\n\\n\\n\\n\\n\\nFebruary 01...</td>\n",
              "      <td>Federal Reserve issues FOMC statement</td>\n",
              "      <td>Jerome H. Powell</td>\n",
              "      <td>fomc_statements</td>\n",
              "      <td>Federal Reserve LinkedIn Page</td>\n",
              "      <td>market|federal|reserve|committee|open</td>\n",
              "    </tr>\n",
              "    <tr>\n",
              "      <th>911837</th>\n",
              "      <td>2023-02-01</td>\n",
              "      <td>2023-02-01_fomc_statements</td>\n",
              "      <td>inks provided below. \\n\\n\\n\\n\\n\\n\\nFebruary 01...</td>\n",
              "      <td>Federal Reserve issues FOMC statement</td>\n",
              "      <td>Jerome H. Powell</td>\n",
              "      <td>fomc_statements</td>\n",
              "      <td>Subscribe to Email</td>\n",
              "      <td>mr|chairman|thank|president|board</td>\n",
              "    </tr>\n",
              "    <tr>\n",
              "      <th>911849</th>\n",
              "      <td>2023-02-01</td>\n",
              "      <td>2023-02-01_fomc_statements</td>\n",
              "      <td>inks provided below. \\n\\n\\n\\n\\n\\n\\nFebruary 01...</td>\n",
              "      <td>Federal Reserve issues FOMC statement</td>\n",
              "      <td>Jerome H. Powell</td>\n",
              "      <td>fomc_statements</td>\n",
              "      <td>Board of Governors of the Federal Reserve System</td>\n",
              "      <td>mr|chairman|thank|president|board</td>\n",
              "    </tr>\n",
              "  </tbody>\n",
              "</table>\n",
              "<p>375 rows × 8 columns</p>\n",
              "</div>"
            ],
            "text/plain": [
              "             date                      source  \\\n",
              "910902 2023-02-01    2023-02-01_fomc_presconf   \n",
              "910906 2023-02-01    2023-02-01_fomc_presconf   \n",
              "910907 2023-02-01    2023-02-01_fomc_presconf   \n",
              "910908 2023-02-01    2023-02-01_fomc_presconf   \n",
              "910909 2023-02-01    2023-02-01_fomc_presconf   \n",
              "...           ...                         ...   \n",
              "911833 2023-02-01  2023-02-01_fomc_statements   \n",
              "911834 2023-02-01  2023-02-01_fomc_statements   \n",
              "911835 2023-02-01  2023-02-01_fomc_statements   \n",
              "911837 2023-02-01  2023-02-01_fomc_statements   \n",
              "911849 2023-02-01  2023-02-01_fomc_statements   \n",
              "\n",
              "                                                     text  \\\n",
              "910902  February 1, 2023   Chair Powell’s Press Confer...   \n",
              "910906  February 1, 2023   Chair Powell’s Press Confer...   \n",
              "910907  February 1, 2023   Chair Powell’s Press Confer...   \n",
              "910908  February 1, 2023   Chair Powell’s Press Confer...   \n",
              "910909  February 1, 2023   Chair Powell’s Press Confer...   \n",
              "...                                                   ...   \n",
              "911833  inks provided below. \\n\\n\\n\\n\\n\\n\\nFebruary 01...   \n",
              "911834  inks provided below. \\n\\n\\n\\n\\n\\n\\nFebruary 01...   \n",
              "911835  inks provided below. \\n\\n\\n\\n\\n\\n\\nFebruary 01...   \n",
              "911837  inks provided below. \\n\\n\\n\\n\\n\\n\\nFebruary 01...   \n",
              "911849  inks provided below. \\n\\n\\n\\n\\n\\n\\nFebruary 01...   \n",
              "\n",
              "                                        title          chairman  \\\n",
              "910902            Press Conference Transcript  Jerome H. Powell   \n",
              "910906            Press Conference Transcript  Jerome H. Powell   \n",
              "910907            Press Conference Transcript  Jerome H. Powell   \n",
              "910908            Press Conference Transcript  Jerome H. Powell   \n",
              "910909            Press Conference Transcript  Jerome H. Powell   \n",
              "...                                       ...               ...   \n",
              "911833  Federal Reserve issues FOMC statement  Jerome H. Powell   \n",
              "911834  Federal Reserve issues FOMC statement  Jerome H. Powell   \n",
              "911835  Federal Reserve issues FOMC statement  Jerome H. Powell   \n",
              "911837  Federal Reserve issues FOMC statement  Jerome H. Powell   \n",
              "911849  Federal Reserve issues FOMC statement  Jerome H. Powell   \n",
              "\n",
              "               variable                                         paragraphs  \\\n",
              "910902    fomc_presconf                                     Page 1 of 23     \n",
              "910906    fomc_presconf  CHAIR POWELL .  Good afternoon, and welcome.  ...   \n",
              "910907    fomc_presconf  hardship that high inflation is causing, and w...   \n",
              "910908    fomc_presconf  down to our 2 percent goal.  Over the past yea...   \n",
              "910909    fomc_presconf  stance of monetary policy.  We have covered a ...   \n",
              "...                 ...                                                ...   \n",
              "911833  fomc_statements               Link to Federal Reserve YouTube Page   \n",
              "911834  fomc_statements                Link to Federal Reserve Flickr Page   \n",
              "911835  fomc_statements                      Federal Reserve LinkedIn Page   \n",
              "911837  fomc_statements                                 Subscribe to Email   \n",
              "911849  fomc_statements   Board of Governors of the Federal Reserve System   \n",
              "\n",
              "                                  dominant_topic  \n",
              "910902     market|federal|reserve|committee|open  \n",
              "910906         mr|chairman|thank|president|board  \n",
              "910907  policy|inflation|monetary|committee|term  \n",
              "910908  policy|inflation|monetary|committee|term  \n",
              "910909  policy|inflation|monetary|committee|term  \n",
              "...                                          ...  \n",
              "911833     market|federal|reserve|committee|open  \n",
              "911834     market|federal|reserve|committee|open  \n",
              "911835     market|federal|reserve|committee|open  \n",
              "911837         mr|chairman|thank|president|board  \n",
              "911849         mr|chairman|thank|president|board  \n",
              "\n",
              "[375 rows x 8 columns]"
            ]
          },
          "execution_count": 89,
          "metadata": {},
          "output_type": "execute_result"
        }
      ],
      "source": [
        "get_rows_from_query(df_exploded, \"What are the major topics discussed in the February 2023 meeting?\")"
      ]
    },
    {
      "cell_type": "code",
      "execution_count": 90,
      "metadata": {},
      "outputs": [],
      "source": [
        "import textwrap\n",
        "\n",
        "def wrap_text_preserve_newlines(text, width=110):\n",
        "    # Split the input text into lines based on newline characters\n",
        "    lines = text.split('\\n')\n",
        "\n",
        "    # Wrap each line individually\n",
        "    wrapped_lines = [textwrap.fill(line, width=width) for line in lines]\n",
        "\n",
        "    # Join the wrapped lines back together using newline characters\n",
        "    wrapped_text = '\\n'.join(wrapped_lines)\n",
        "\n",
        "    return wrapped_text\n",
        "\n",
        "def process_llm_response(llm_response):\n",
        "    print(wrap_text_preserve_newlines(llm_response['result']))\n",
        "    print('\\n\\nSources:')\n",
        "    for source in llm_response[\"source_documents\"]:\n",
        "        print(str(source.metadata['date']) + '_' + source.metadata['variable'])"
      ]
    },
    {
      "cell_type": "code",
      "execution_count": 96,
      "metadata": {},
      "outputs": [],
      "source": [
        "from langchain.retrievers import ContextualCompressionRetriever\n",
        "from langchain.retrievers.document_compressors import LLMChainExtractor\n",
        "\n",
        "def answer_query(df, query):\n",
        "    rows = get_rows_from_query(df, query)\n",
        "\n",
        "    # Combine rows with the same 'source' into a single row\n",
        "    combined_rows = rows.groupby('source').agg({\n",
        "        'date': 'first',\n",
        "        'text': ' '.join,\n",
        "        'title': 'first',\n",
        "        'chairman': 'first',\n",
        "        'dominant_topic': 'first',\n",
        "        'variable': 'first',\n",
        "        # Include any other columns that you want to keep\n",
        "    }).reset_index()\n",
        "\n",
        "    loader = DataFrameLoader(combined_rows, page_content_column=\"source\")\n",
        "    documents = loader.load()     \n",
        "\n",
        "    text_splitter = RecursiveCharacterTextSplitter(chunk_size=2000, chunk_overlap=200)\n",
        "    texts = text_splitter.split_documents(documents)\n",
        "\n",
        "    retriever = FAISS.from_documents(texts, OpenAIEmbeddings()).as_retriever(search_type=\"mmr\") \n",
        "\n",
        "    \"\"\"compressor = LLMChainExtractor.from_llm(llm)\n",
        "    compression_retriever = ContextualCompressionRetriever(base_compressor=compressor, base_retriever=retriever)\"\"\"\n",
        "\n",
        "    qa_chain = RetrievalQA.from_chain_type(llm=llm, \n",
        "                                  chain_type=\"stuff\", \n",
        "                                  retriever=retriever, \n",
        "                                  return_source_documents=True)\n",
        "\n",
        "    return qa_chain(query)\n"
      ]
    },
    {
      "cell_type": "code",
      "execution_count": 97,
      "metadata": {},
      "outputs": [
        {
          "name": "stdout",
          "output_type": "stream",
          "text": [
            " The sentiment around inflation in the May 2022 meeting can be found in the FOMC statements, press conference,\n",
            "and minutes.\n",
            "\n",
            "\n",
            "Sources:\n",
            "2022-05-04 00:00:00_fomc_statements\n",
            "2022-05-04 00:00:00_fomc_presconf\n",
            "2022-05-04 00:00:00_fomc_minutes\n"
          ]
        }
      ],
      "source": [
        "query = \"What is the sentiment around inflation in the May 2022 meeting based on the documents?\"\n",
        "llm_response = answer_query(df_exploded, query)\n",
        "process_llm_response(llm_response)"
      ]
    },
    {
      "cell_type": "code",
      "execution_count": null,
      "metadata": {
        "cellView": "code",
        "id": "hHZlGbQhsSzN"
      },
      "outputs": [],
      "source": [
        "#@title Default title text\n",
        "#Define the scope of the chatbot : specific range of info or functionality that our bot will cover. Identify boundaries of our bot.\n",
        "# sample general questions\n",
        "\n",
        "# When is the next FOMC meeting?\n",
        "# What is the purpose of the FOMC meetings?\n",
        "# How often does the FOMC meet?\n",
        "# What are the key factors considered during FOMC meetings?\n",
        "# What is the current interest rate set by the FOMC?\n",
        "# What was the outcome of the last FOMC meeting?\n",
        "#   \n",
        "# Can you explain the FOMC statement from the latest meeting?\n",
        "# How does the FOMC influence the economy?\n",
        "# Are FOMC meetings open to the public?\n",
        "\n",
        "#sample questions that an investor can pose to the chatbot\n",
        "\n",
        "# What was the outcome of the latest FOMC meeting, and how did it affect interest rates?\n",
        "# Did the FOMC provide any guidance on future interest rate changes during the meeting?\n",
        "# What was the rationale behind the FOMC's decision to raise/lower/keep interest rates unchanged?\n",
        "# How did the market react to the FOMC's decision, and what are the implications for my investment portfolio?\n",
        "# Were there any notable statements or remarks made by the FOMC chair or committee members during the meeting?\n",
        "# Did the FOMC provide any insights or projections regarding the state of the economy and its impact on monetary policy?\n",
        "# Were there any changes in the FOMC's assessment of inflation, employment, or other key economic indicators?\n",
        "# How do the FOMC's decisions align with my investment strategy or outlook?\n",
        "# What are the expectations for future FOMC meetings and potential policy shifts?\n",
        "# Are there any specific sectors or industries that are likely to be affected by the FOMC's decisions?\n",
        "# How does the FOMC's decision on interest rates align with the current economic conditions?\n",
        "# Did the FOMC provide any forward guidance on the pace or direction of future interest rate changes?\n",
        "# What are the potential implications of the FOMC's decision for bond markets and fixed-income investments?\n",
        "# How might the FOMC's decision impact currency exchange rates and international investments?\n",
        "# Did the FOMC express any concerns or considerations regarding financial stability or potential risks to the economy?\n",
        "# Are there any specific sectors or industries that are expected to benefit or face challenges as a result of the FOMC's decision?\n",
        "# How might the FOMC's decision impact borrowing costs for businesses and consumers?\n",
        "# Did the FOMC provide any insights into its views on inflation expectations and their potential impact on investment strategies?\n",
        "# What are the potential implications of the FOMC's decision for equity markets and specific stocks or sectors?\n",
        "# Are there any changes in the FOMC's assessment of the economic outlook that might warrant adjustments to investment strategies?\n",
        "\n",
        "#prompts for comparing topics\n",
        "\n",
        "# \"Can you provide a comparison of interest rate changes by the FOMC over the past five years?\"\n",
        "# \"What were the key economic indicators discussed in FOMC meetings during the last quarter, and how do they compare to the previous quarter?\"\n",
        "# \"How have the FOMC's statements on inflation evolved over the past 10 years, and what trends can be observed?\"\n",
        "# \"Could you outline the decisions made by the FOMC regarding quantitative easing programs and their impact on the stock market over the past three years?\"\n",
        "# \"What were the FOMC's projections for GDP growth in the past five years, and how did the actual outcomes compare to those projections?\"\n",
        "# \"Has there been a notable change in the FOMC's tone or language regarding its stance on interest rates over the past year?\"\n",
        "# \"Can you provide a historical comparison of the FOMC's policy statements and their impact on bond yields over the past decade?\"\n",
        "# \"How have market reactions differed based on the FOMC's decisions to raise, lower, or keep interest rates unchanged over the past five years?\"\n",
        "# \"What trends can be observed in the FOMC's discussions on employment and its relationship to monetary policy decisions over the past two years?\"\n",
        "# \"Has there been any significant shift in the FOMC's outlook on global economic factors and their impact on the domestic economy over the past three years?\"\n",
        "# \"Compare the FOMC's interest rate decisions during periods of economic expansion versus economic contraction over the past decade.\"\n",
        "# \"Provide a historical comparison of the FOMC's response to financial crises and their impact on equity markets.\"\n",
        "# \"What are the differences in the FOMC's statements regarding inflation expectations during periods of low versus high inflation over the past five years?\"\n",
        "# \"Compare the FOMC's outlook on employment and its relationship to interest rate decisions during periods of rapid economic growth versus periods of stagnation.\"\n",
        "# \"Has there been a notable shift in the FOMC's discussions on global trade and its influence on monetary policy decisions over the past three years?\"\n",
        "# \"Compare the FOMC's responses to geopolitical events and their effect on market volatility over the past decade.\"\n",
        "# \"What patterns can be observed in the FOMC's decisions to taper or expand quantitative easing programs during periods of economic uncertainty?\"\n",
        "# \"Compare the FOMC's language on financial stability risks and its impact on bond markets during periods of market turbulence over the past five years.\"\n",
        "# \"Has there been a significant change in the FOMC's approach to forward guidance and its impact on market expectations over the past two years?\"\n",
        "# \"Compare the FOMC's statements on wage growth and its influence on inflation targeting during periods of tight labor markets versus periods of high unemployment.\""
      ]
    },
    {
      "cell_type": "code",
      "execution_count": 14,
      "metadata": {},
      "outputs": [],
      "source": [
        "from langchain.agents import create_pandas_dataframe_agent\n",
        "from langchain.chat_models import ChatOpenAI\n",
        "from langchain.agents.agent_types import AgentType"
      ]
    },
    {
      "cell_type": "code",
      "execution_count": 17,
      "metadata": {},
      "outputs": [],
      "source": [
        "agent = create_pandas_dataframe_agent(OpenAI(temperature=0), df, verbose=True)"
      ]
    },
    {
      "cell_type": "code",
      "execution_count": 19,
      "metadata": {},
      "outputs": [
        {
          "name": "stdout",
          "output_type": "stream",
          "text": [
            "\n",
            "\n",
            "\u001b[1m> Entering new  chain...\u001b[0m\n"
          ]
        },
        {
          "name": "stderr",
          "output_type": "stream",
          "text": [
            "Retrying langchain.llms.openai.completion_with_retry.<locals>._completion_with_retry in 4.0 seconds as it raised APIError: HTTP code 413 from API (<html>\n",
            "<head><title>413 Request Entity Too Large</title></head>\n",
            "<body>\n",
            "<center><h1>413 Request Entity Too Large</h1></center>\n",
            "<hr><center>cloudflare</center>\n",
            "</body>\n",
            "</html>\n",
            ").\n",
            "Retrying langchain.llms.openai.completion_with_retry.<locals>._completion_with_retry in 4.0 seconds as it raised APIError: HTTP code 413 from API (<html>\n",
            "<head><title>413 Request Entity Too Large</title></head>\n",
            "<body>\n",
            "<center><h1>413 Request Entity Too Large</h1></center>\n",
            "<hr><center>cloudflare</center>\n",
            "</body>\n",
            "</html>\n",
            ").\n"
          ]
        },
        {
          "ename": "KeyboardInterrupt",
          "evalue": "",
          "output_type": "error",
          "traceback": [
            "\u001b[0;31m---------------------------------------------------------------------------\u001b[0m",
            "\u001b[0;31mKeyboardInterrupt\u001b[0m                         Traceback (most recent call last)",
            "Cell \u001b[0;32mIn[19], line 1\u001b[0m\n\u001b[0;32m----> 1\u001b[0m agent\u001b[39m.\u001b[39;49mrun(\u001b[39m\"\u001b[39;49m\u001b[39mHow many records are there in the dataframe?\u001b[39;49m\u001b[39m\"\u001b[39;49m)\n",
            "File \u001b[0;32m~/Library/Python/3.9/lib/python/site-packages/langchain/chains/base.py:267\u001b[0m, in \u001b[0;36mChain.run\u001b[0;34m(self, callbacks, tags, *args, **kwargs)\u001b[0m\n\u001b[1;32m    265\u001b[0m     \u001b[39mif\u001b[39;00m \u001b[39mlen\u001b[39m(args) \u001b[39m!=\u001b[39m \u001b[39m1\u001b[39m:\n\u001b[1;32m    266\u001b[0m         \u001b[39mraise\u001b[39;00m \u001b[39mValueError\u001b[39;00m(\u001b[39m\"\u001b[39m\u001b[39m`run` supports only one positional argument.\u001b[39m\u001b[39m\"\u001b[39m)\n\u001b[0;32m--> 267\u001b[0m     \u001b[39mreturn\u001b[39;00m \u001b[39mself\u001b[39;49m(args[\u001b[39m0\u001b[39;49m], callbacks\u001b[39m=\u001b[39;49mcallbacks, tags\u001b[39m=\u001b[39;49mtags)[\u001b[39mself\u001b[39m\u001b[39m.\u001b[39moutput_keys[\u001b[39m0\u001b[39m]]\n\u001b[1;32m    269\u001b[0m \u001b[39mif\u001b[39;00m kwargs \u001b[39mand\u001b[39;00m \u001b[39mnot\u001b[39;00m args:\n\u001b[1;32m    270\u001b[0m     \u001b[39mreturn\u001b[39;00m \u001b[39mself\u001b[39m(kwargs, callbacks\u001b[39m=\u001b[39mcallbacks, tags\u001b[39m=\u001b[39mtags)[\u001b[39mself\u001b[39m\u001b[39m.\u001b[39moutput_keys[\u001b[39m0\u001b[39m]]\n",
            "File \u001b[0;32m~/Library/Python/3.9/lib/python/site-packages/langchain/chains/base.py:149\u001b[0m, in \u001b[0;36mChain.__call__\u001b[0;34m(self, inputs, return_only_outputs, callbacks, tags, include_run_info)\u001b[0m\n\u001b[1;32m    147\u001b[0m \u001b[39mexcept\u001b[39;00m (\u001b[39mKeyboardInterrupt\u001b[39;00m, \u001b[39mException\u001b[39;00m) \u001b[39mas\u001b[39;00m e:\n\u001b[1;32m    148\u001b[0m     run_manager\u001b[39m.\u001b[39mon_chain_error(e)\n\u001b[0;32m--> 149\u001b[0m     \u001b[39mraise\u001b[39;00m e\n\u001b[1;32m    150\u001b[0m run_manager\u001b[39m.\u001b[39mon_chain_end(outputs)\n\u001b[1;32m    151\u001b[0m final_outputs: Dict[\u001b[39mstr\u001b[39m, Any] \u001b[39m=\u001b[39m \u001b[39mself\u001b[39m\u001b[39m.\u001b[39mprep_outputs(\n\u001b[1;32m    152\u001b[0m     inputs, outputs, return_only_outputs\n\u001b[1;32m    153\u001b[0m )\n",
            "File \u001b[0;32m~/Library/Python/3.9/lib/python/site-packages/langchain/chains/base.py:143\u001b[0m, in \u001b[0;36mChain.__call__\u001b[0;34m(self, inputs, return_only_outputs, callbacks, tags, include_run_info)\u001b[0m\n\u001b[1;32m    137\u001b[0m run_manager \u001b[39m=\u001b[39m callback_manager\u001b[39m.\u001b[39mon_chain_start(\n\u001b[1;32m    138\u001b[0m     dumpd(\u001b[39mself\u001b[39m),\n\u001b[1;32m    139\u001b[0m     inputs,\n\u001b[1;32m    140\u001b[0m )\n\u001b[1;32m    141\u001b[0m \u001b[39mtry\u001b[39;00m:\n\u001b[1;32m    142\u001b[0m     outputs \u001b[39m=\u001b[39m (\n\u001b[0;32m--> 143\u001b[0m         \u001b[39mself\u001b[39;49m\u001b[39m.\u001b[39;49m_call(inputs, run_manager\u001b[39m=\u001b[39;49mrun_manager)\n\u001b[1;32m    144\u001b[0m         \u001b[39mif\u001b[39;00m new_arg_supported\n\u001b[1;32m    145\u001b[0m         \u001b[39melse\u001b[39;00m \u001b[39mself\u001b[39m\u001b[39m.\u001b[39m_call(inputs)\n\u001b[1;32m    146\u001b[0m     )\n\u001b[1;32m    147\u001b[0m \u001b[39mexcept\u001b[39;00m (\u001b[39mKeyboardInterrupt\u001b[39;00m, \u001b[39mException\u001b[39;00m) \u001b[39mas\u001b[39;00m e:\n\u001b[1;32m    148\u001b[0m     run_manager\u001b[39m.\u001b[39mon_chain_error(e)\n",
            "File \u001b[0;32m~/Library/Python/3.9/lib/python/site-packages/langchain/agents/agent.py:957\u001b[0m, in \u001b[0;36mAgentExecutor._call\u001b[0;34m(self, inputs, run_manager)\u001b[0m\n\u001b[1;32m    955\u001b[0m \u001b[39m# We now enter the agent loop (until it returns something).\u001b[39;00m\n\u001b[1;32m    956\u001b[0m \u001b[39mwhile\u001b[39;00m \u001b[39mself\u001b[39m\u001b[39m.\u001b[39m_should_continue(iterations, time_elapsed):\n\u001b[0;32m--> 957\u001b[0m     next_step_output \u001b[39m=\u001b[39m \u001b[39mself\u001b[39;49m\u001b[39m.\u001b[39;49m_take_next_step(\n\u001b[1;32m    958\u001b[0m         name_to_tool_map,\n\u001b[1;32m    959\u001b[0m         color_mapping,\n\u001b[1;32m    960\u001b[0m         inputs,\n\u001b[1;32m    961\u001b[0m         intermediate_steps,\n\u001b[1;32m    962\u001b[0m         run_manager\u001b[39m=\u001b[39;49mrun_manager,\n\u001b[1;32m    963\u001b[0m     )\n\u001b[1;32m    964\u001b[0m     \u001b[39mif\u001b[39;00m \u001b[39misinstance\u001b[39m(next_step_output, AgentFinish):\n\u001b[1;32m    965\u001b[0m         \u001b[39mreturn\u001b[39;00m \u001b[39mself\u001b[39m\u001b[39m.\u001b[39m_return(\n\u001b[1;32m    966\u001b[0m             next_step_output, intermediate_steps, run_manager\u001b[39m=\u001b[39mrun_manager\n\u001b[1;32m    967\u001b[0m         )\n",
            "File \u001b[0;32m~/Library/Python/3.9/lib/python/site-packages/langchain/agents/agent.py:762\u001b[0m, in \u001b[0;36mAgentExecutor._take_next_step\u001b[0;34m(self, name_to_tool_map, color_mapping, inputs, intermediate_steps, run_manager)\u001b[0m\n\u001b[1;32m    756\u001b[0m \u001b[39m\u001b[39m\u001b[39m\"\"\"Take a single step in the thought-action-observation loop.\u001b[39;00m\n\u001b[1;32m    757\u001b[0m \n\u001b[1;32m    758\u001b[0m \u001b[39mOverride this to take control of how the agent makes and acts on choices.\u001b[39;00m\n\u001b[1;32m    759\u001b[0m \u001b[39m\"\"\"\u001b[39;00m\n\u001b[1;32m    760\u001b[0m \u001b[39mtry\u001b[39;00m:\n\u001b[1;32m    761\u001b[0m     \u001b[39m# Call the LLM to see what to do.\u001b[39;00m\n\u001b[0;32m--> 762\u001b[0m     output \u001b[39m=\u001b[39m \u001b[39mself\u001b[39;49m\u001b[39m.\u001b[39;49magent\u001b[39m.\u001b[39;49mplan(\n\u001b[1;32m    763\u001b[0m         intermediate_steps,\n\u001b[1;32m    764\u001b[0m         callbacks\u001b[39m=\u001b[39;49mrun_manager\u001b[39m.\u001b[39;49mget_child() \u001b[39mif\u001b[39;49;00m run_manager \u001b[39melse\u001b[39;49;00m \u001b[39mNone\u001b[39;49;00m,\n\u001b[1;32m    765\u001b[0m         \u001b[39m*\u001b[39;49m\u001b[39m*\u001b[39;49minputs,\n\u001b[1;32m    766\u001b[0m     )\n\u001b[1;32m    767\u001b[0m \u001b[39mexcept\u001b[39;00m OutputParserException \u001b[39mas\u001b[39;00m e:\n\u001b[1;32m    768\u001b[0m     \u001b[39mif\u001b[39;00m \u001b[39misinstance\u001b[39m(\u001b[39mself\u001b[39m\u001b[39m.\u001b[39mhandle_parsing_errors, \u001b[39mbool\u001b[39m):\n",
            "File \u001b[0;32m~/Library/Python/3.9/lib/python/site-packages/langchain/agents/agent.py:443\u001b[0m, in \u001b[0;36mAgent.plan\u001b[0;34m(self, intermediate_steps, callbacks, **kwargs)\u001b[0m\n\u001b[1;32m    431\u001b[0m \u001b[39m\u001b[39m\u001b[39m\"\"\"Given input, decided what to do.\u001b[39;00m\n\u001b[1;32m    432\u001b[0m \n\u001b[1;32m    433\u001b[0m \u001b[39mArgs:\u001b[39;00m\n\u001b[0;32m   (...)\u001b[0m\n\u001b[1;32m    440\u001b[0m \u001b[39m    Action specifying what tool to use.\u001b[39;00m\n\u001b[1;32m    441\u001b[0m \u001b[39m\"\"\"\u001b[39;00m\n\u001b[1;32m    442\u001b[0m full_inputs \u001b[39m=\u001b[39m \u001b[39mself\u001b[39m\u001b[39m.\u001b[39mget_full_inputs(intermediate_steps, \u001b[39m*\u001b[39m\u001b[39m*\u001b[39mkwargs)\n\u001b[0;32m--> 443\u001b[0m full_output \u001b[39m=\u001b[39m \u001b[39mself\u001b[39;49m\u001b[39m.\u001b[39;49mllm_chain\u001b[39m.\u001b[39;49mpredict(callbacks\u001b[39m=\u001b[39;49mcallbacks, \u001b[39m*\u001b[39;49m\u001b[39m*\u001b[39;49mfull_inputs)\n\u001b[1;32m    444\u001b[0m \u001b[39mreturn\u001b[39;00m \u001b[39mself\u001b[39m\u001b[39m.\u001b[39moutput_parser\u001b[39m.\u001b[39mparse(full_output)\n",
            "File \u001b[0;32m~/Library/Python/3.9/lib/python/site-packages/langchain/chains/llm.py:218\u001b[0m, in \u001b[0;36mLLMChain.predict\u001b[0;34m(self, callbacks, **kwargs)\u001b[0m\n\u001b[1;32m    203\u001b[0m \u001b[39mdef\u001b[39;00m \u001b[39mpredict\u001b[39m(\u001b[39mself\u001b[39m, callbacks: Callbacks \u001b[39m=\u001b[39m \u001b[39mNone\u001b[39;00m, \u001b[39m*\u001b[39m\u001b[39m*\u001b[39mkwargs: Any) \u001b[39m-\u001b[39m\u001b[39m>\u001b[39m \u001b[39mstr\u001b[39m:\n\u001b[1;32m    204\u001b[0m \u001b[39m    \u001b[39m\u001b[39m\"\"\"Format prompt with kwargs and pass to LLM.\u001b[39;00m\n\u001b[1;32m    205\u001b[0m \n\u001b[1;32m    206\u001b[0m \u001b[39m    Args:\u001b[39;00m\n\u001b[0;32m   (...)\u001b[0m\n\u001b[1;32m    216\u001b[0m \u001b[39m            completion = llm.predict(adjective=\"funny\")\u001b[39;00m\n\u001b[1;32m    217\u001b[0m \u001b[39m    \"\"\"\u001b[39;00m\n\u001b[0;32m--> 218\u001b[0m     \u001b[39mreturn\u001b[39;00m \u001b[39mself\u001b[39;49m(kwargs, callbacks\u001b[39m=\u001b[39;49mcallbacks)[\u001b[39mself\u001b[39m\u001b[39m.\u001b[39moutput_key]\n",
            "File \u001b[0;32m~/Library/Python/3.9/lib/python/site-packages/langchain/chains/base.py:149\u001b[0m, in \u001b[0;36mChain.__call__\u001b[0;34m(self, inputs, return_only_outputs, callbacks, tags, include_run_info)\u001b[0m\n\u001b[1;32m    147\u001b[0m \u001b[39mexcept\u001b[39;00m (\u001b[39mKeyboardInterrupt\u001b[39;00m, \u001b[39mException\u001b[39;00m) \u001b[39mas\u001b[39;00m e:\n\u001b[1;32m    148\u001b[0m     run_manager\u001b[39m.\u001b[39mon_chain_error(e)\n\u001b[0;32m--> 149\u001b[0m     \u001b[39mraise\u001b[39;00m e\n\u001b[1;32m    150\u001b[0m run_manager\u001b[39m.\u001b[39mon_chain_end(outputs)\n\u001b[1;32m    151\u001b[0m final_outputs: Dict[\u001b[39mstr\u001b[39m, Any] \u001b[39m=\u001b[39m \u001b[39mself\u001b[39m\u001b[39m.\u001b[39mprep_outputs(\n\u001b[1;32m    152\u001b[0m     inputs, outputs, return_only_outputs\n\u001b[1;32m    153\u001b[0m )\n",
            "File \u001b[0;32m~/Library/Python/3.9/lib/python/site-packages/langchain/chains/base.py:143\u001b[0m, in \u001b[0;36mChain.__call__\u001b[0;34m(self, inputs, return_only_outputs, callbacks, tags, include_run_info)\u001b[0m\n\u001b[1;32m    137\u001b[0m run_manager \u001b[39m=\u001b[39m callback_manager\u001b[39m.\u001b[39mon_chain_start(\n\u001b[1;32m    138\u001b[0m     dumpd(\u001b[39mself\u001b[39m),\n\u001b[1;32m    139\u001b[0m     inputs,\n\u001b[1;32m    140\u001b[0m )\n\u001b[1;32m    141\u001b[0m \u001b[39mtry\u001b[39;00m:\n\u001b[1;32m    142\u001b[0m     outputs \u001b[39m=\u001b[39m (\n\u001b[0;32m--> 143\u001b[0m         \u001b[39mself\u001b[39;49m\u001b[39m.\u001b[39;49m_call(inputs, run_manager\u001b[39m=\u001b[39;49mrun_manager)\n\u001b[1;32m    144\u001b[0m         \u001b[39mif\u001b[39;00m new_arg_supported\n\u001b[1;32m    145\u001b[0m         \u001b[39melse\u001b[39;00m \u001b[39mself\u001b[39m\u001b[39m.\u001b[39m_call(inputs)\n\u001b[1;32m    146\u001b[0m     )\n\u001b[1;32m    147\u001b[0m \u001b[39mexcept\u001b[39;00m (\u001b[39mKeyboardInterrupt\u001b[39;00m, \u001b[39mException\u001b[39;00m) \u001b[39mas\u001b[39;00m e:\n\u001b[1;32m    148\u001b[0m     run_manager\u001b[39m.\u001b[39mon_chain_error(e)\n",
            "File \u001b[0;32m~/Library/Python/3.9/lib/python/site-packages/langchain/chains/llm.py:74\u001b[0m, in \u001b[0;36mLLMChain._call\u001b[0;34m(self, inputs, run_manager)\u001b[0m\n\u001b[1;32m     69\u001b[0m \u001b[39mdef\u001b[39;00m \u001b[39m_call\u001b[39m(\n\u001b[1;32m     70\u001b[0m     \u001b[39mself\u001b[39m,\n\u001b[1;32m     71\u001b[0m     inputs: Dict[\u001b[39mstr\u001b[39m, Any],\n\u001b[1;32m     72\u001b[0m     run_manager: Optional[CallbackManagerForChainRun] \u001b[39m=\u001b[39m \u001b[39mNone\u001b[39;00m,\n\u001b[1;32m     73\u001b[0m ) \u001b[39m-\u001b[39m\u001b[39m>\u001b[39m Dict[\u001b[39mstr\u001b[39m, \u001b[39mstr\u001b[39m]:\n\u001b[0;32m---> 74\u001b[0m     response \u001b[39m=\u001b[39m \u001b[39mself\u001b[39;49m\u001b[39m.\u001b[39;49mgenerate([inputs], run_manager\u001b[39m=\u001b[39;49mrun_manager)\n\u001b[1;32m     75\u001b[0m     \u001b[39mreturn\u001b[39;00m \u001b[39mself\u001b[39m\u001b[39m.\u001b[39mcreate_outputs(response)[\u001b[39m0\u001b[39m]\n",
            "File \u001b[0;32m~/Library/Python/3.9/lib/python/site-packages/langchain/chains/llm.py:84\u001b[0m, in \u001b[0;36mLLMChain.generate\u001b[0;34m(self, input_list, run_manager)\u001b[0m\n\u001b[1;32m     82\u001b[0m \u001b[39m\u001b[39m\u001b[39m\"\"\"Generate LLM result from inputs.\"\"\"\u001b[39;00m\n\u001b[1;32m     83\u001b[0m prompts, stop \u001b[39m=\u001b[39m \u001b[39mself\u001b[39m\u001b[39m.\u001b[39mprep_prompts(input_list, run_manager\u001b[39m=\u001b[39mrun_manager)\n\u001b[0;32m---> 84\u001b[0m \u001b[39mreturn\u001b[39;00m \u001b[39mself\u001b[39;49m\u001b[39m.\u001b[39;49mllm\u001b[39m.\u001b[39;49mgenerate_prompt(\n\u001b[1;32m     85\u001b[0m     prompts, stop, callbacks\u001b[39m=\u001b[39;49mrun_manager\u001b[39m.\u001b[39;49mget_child() \u001b[39mif\u001b[39;49;00m run_manager \u001b[39melse\u001b[39;49;00m \u001b[39mNone\u001b[39;49;00m\n\u001b[1;32m     86\u001b[0m )\n",
            "File \u001b[0;32m~/Library/Python/3.9/lib/python/site-packages/langchain/llms/base.py:140\u001b[0m, in \u001b[0;36mBaseLLM.generate_prompt\u001b[0;34m(self, prompts, stop, callbacks, **kwargs)\u001b[0m\n\u001b[1;32m    132\u001b[0m \u001b[39mdef\u001b[39;00m \u001b[39mgenerate_prompt\u001b[39m(\n\u001b[1;32m    133\u001b[0m     \u001b[39mself\u001b[39m,\n\u001b[1;32m    134\u001b[0m     prompts: List[PromptValue],\n\u001b[0;32m   (...)\u001b[0m\n\u001b[1;32m    137\u001b[0m     \u001b[39m*\u001b[39m\u001b[39m*\u001b[39mkwargs: Any,\n\u001b[1;32m    138\u001b[0m ) \u001b[39m-\u001b[39m\u001b[39m>\u001b[39m LLMResult:\n\u001b[1;32m    139\u001b[0m     prompt_strings \u001b[39m=\u001b[39m [p\u001b[39m.\u001b[39mto_string() \u001b[39mfor\u001b[39;00m p \u001b[39min\u001b[39;00m prompts]\n\u001b[0;32m--> 140\u001b[0m     \u001b[39mreturn\u001b[39;00m \u001b[39mself\u001b[39;49m\u001b[39m.\u001b[39;49mgenerate(prompt_strings, stop\u001b[39m=\u001b[39;49mstop, callbacks\u001b[39m=\u001b[39;49mcallbacks, \u001b[39m*\u001b[39;49m\u001b[39m*\u001b[39;49mkwargs)\n",
            "File \u001b[0;32m~/Library/Python/3.9/lib/python/site-packages/langchain/llms/base.py:206\u001b[0m, in \u001b[0;36mBaseLLM.generate\u001b[0;34m(self, prompts, stop, callbacks, tags, **kwargs)\u001b[0m\n\u001b[1;32m    204\u001b[0m \u001b[39mexcept\u001b[39;00m (\u001b[39mKeyboardInterrupt\u001b[39;00m, \u001b[39mException\u001b[39;00m) \u001b[39mas\u001b[39;00m e:\n\u001b[1;32m    205\u001b[0m     run_manager\u001b[39m.\u001b[39mon_llm_error(e)\n\u001b[0;32m--> 206\u001b[0m     \u001b[39mraise\u001b[39;00m e\n\u001b[1;32m    207\u001b[0m run_manager\u001b[39m.\u001b[39mon_llm_end(output)\n\u001b[1;32m    208\u001b[0m \u001b[39mif\u001b[39;00m run_manager:\n",
            "File \u001b[0;32m~/Library/Python/3.9/lib/python/site-packages/langchain/llms/base.py:198\u001b[0m, in \u001b[0;36mBaseLLM.generate\u001b[0;34m(self, prompts, stop, callbacks, tags, **kwargs)\u001b[0m\n\u001b[1;32m    193\u001b[0m run_manager \u001b[39m=\u001b[39m callback_manager\u001b[39m.\u001b[39mon_llm_start(\n\u001b[1;32m    194\u001b[0m     dumpd(\u001b[39mself\u001b[39m), prompts, invocation_params\u001b[39m=\u001b[39mparams, options\u001b[39m=\u001b[39moptions\n\u001b[1;32m    195\u001b[0m )\n\u001b[1;32m    196\u001b[0m \u001b[39mtry\u001b[39;00m:\n\u001b[1;32m    197\u001b[0m     output \u001b[39m=\u001b[39m (\n\u001b[0;32m--> 198\u001b[0m         \u001b[39mself\u001b[39;49m\u001b[39m.\u001b[39;49m_generate(\n\u001b[1;32m    199\u001b[0m             prompts, stop\u001b[39m=\u001b[39;49mstop, run_manager\u001b[39m=\u001b[39;49mrun_manager, \u001b[39m*\u001b[39;49m\u001b[39m*\u001b[39;49mkwargs\n\u001b[1;32m    200\u001b[0m         )\n\u001b[1;32m    201\u001b[0m         \u001b[39mif\u001b[39;00m new_arg_supported\n\u001b[1;32m    202\u001b[0m         \u001b[39melse\u001b[39;00m \u001b[39mself\u001b[39m\u001b[39m.\u001b[39m_generate(prompts, stop\u001b[39m=\u001b[39mstop, \u001b[39m*\u001b[39m\u001b[39m*\u001b[39mkwargs)\n\u001b[1;32m    203\u001b[0m     )\n\u001b[1;32m    204\u001b[0m \u001b[39mexcept\u001b[39;00m (\u001b[39mKeyboardInterrupt\u001b[39;00m, \u001b[39mException\u001b[39;00m) \u001b[39mas\u001b[39;00m e:\n\u001b[1;32m    205\u001b[0m     run_manager\u001b[39m.\u001b[39mon_llm_error(e)\n",
            "File \u001b[0;32m~/Library/Python/3.9/lib/python/site-packages/langchain/llms/openai.py:326\u001b[0m, in \u001b[0;36mBaseOpenAI._generate\u001b[0;34m(self, prompts, stop, run_manager, **kwargs)\u001b[0m\n\u001b[1;32m    324\u001b[0m     choices\u001b[39m.\u001b[39mextend(response[\u001b[39m\"\u001b[39m\u001b[39mchoices\u001b[39m\u001b[39m\"\u001b[39m])\n\u001b[1;32m    325\u001b[0m \u001b[39melse\u001b[39;00m:\n\u001b[0;32m--> 326\u001b[0m     response \u001b[39m=\u001b[39m completion_with_retry(\u001b[39mself\u001b[39;49m, prompt\u001b[39m=\u001b[39;49m_prompts, \u001b[39m*\u001b[39;49m\u001b[39m*\u001b[39;49mparams)\n\u001b[1;32m    327\u001b[0m     choices\u001b[39m.\u001b[39mextend(response[\u001b[39m\"\u001b[39m\u001b[39mchoices\u001b[39m\u001b[39m\"\u001b[39m])\n\u001b[1;32m    328\u001b[0m \u001b[39mif\u001b[39;00m \u001b[39mnot\u001b[39;00m \u001b[39mself\u001b[39m\u001b[39m.\u001b[39mstreaming:\n\u001b[1;32m    329\u001b[0m     \u001b[39m# Can't update token usage if streaming\u001b[39;00m\n",
            "File \u001b[0;32m~/Library/Python/3.9/lib/python/site-packages/langchain/llms/openai.py:106\u001b[0m, in \u001b[0;36mcompletion_with_retry\u001b[0;34m(llm, **kwargs)\u001b[0m\n\u001b[1;32m    102\u001b[0m \u001b[39m@retry_decorator\u001b[39m\n\u001b[1;32m    103\u001b[0m \u001b[39mdef\u001b[39;00m \u001b[39m_completion_with_retry\u001b[39m(\u001b[39m*\u001b[39m\u001b[39m*\u001b[39mkwargs: Any) \u001b[39m-\u001b[39m\u001b[39m>\u001b[39m Any:\n\u001b[1;32m    104\u001b[0m     \u001b[39mreturn\u001b[39;00m llm\u001b[39m.\u001b[39mclient\u001b[39m.\u001b[39mcreate(\u001b[39m*\u001b[39m\u001b[39m*\u001b[39mkwargs)\n\u001b[0;32m--> 106\u001b[0m \u001b[39mreturn\u001b[39;00m _completion_with_retry(\u001b[39m*\u001b[39;49m\u001b[39m*\u001b[39;49mkwargs)\n",
            "File \u001b[0;32m~/Library/Python/3.9/lib/python/site-packages/tenacity/__init__.py:289\u001b[0m, in \u001b[0;36mBaseRetrying.wraps.<locals>.wrapped_f\u001b[0;34m(*args, **kw)\u001b[0m\n\u001b[1;32m    287\u001b[0m \u001b[39m@functools\u001b[39m\u001b[39m.\u001b[39mwraps(f)\n\u001b[1;32m    288\u001b[0m \u001b[39mdef\u001b[39;00m \u001b[39mwrapped_f\u001b[39m(\u001b[39m*\u001b[39margs: t\u001b[39m.\u001b[39mAny, \u001b[39m*\u001b[39m\u001b[39m*\u001b[39mkw: t\u001b[39m.\u001b[39mAny) \u001b[39m-\u001b[39m\u001b[39m>\u001b[39m t\u001b[39m.\u001b[39mAny:\n\u001b[0;32m--> 289\u001b[0m     \u001b[39mreturn\u001b[39;00m \u001b[39mself\u001b[39;49m(f, \u001b[39m*\u001b[39;49margs, \u001b[39m*\u001b[39;49m\u001b[39m*\u001b[39;49mkw)\n",
            "File \u001b[0;32m~/Library/Python/3.9/lib/python/site-packages/tenacity/__init__.py:389\u001b[0m, in \u001b[0;36mRetrying.__call__\u001b[0;34m(self, fn, *args, **kwargs)\u001b[0m\n\u001b[1;32m    387\u001b[0m \u001b[39melif\u001b[39;00m \u001b[39misinstance\u001b[39m(do, DoSleep):\n\u001b[1;32m    388\u001b[0m     retry_state\u001b[39m.\u001b[39mprepare_for_next_attempt()\n\u001b[0;32m--> 389\u001b[0m     \u001b[39mself\u001b[39;49m\u001b[39m.\u001b[39;49msleep(do)\n\u001b[1;32m    390\u001b[0m \u001b[39melse\u001b[39;00m:\n\u001b[1;32m    391\u001b[0m     \u001b[39mreturn\u001b[39;00m do\n",
            "File \u001b[0;32m~/Library/Python/3.9/lib/python/site-packages/tenacity/nap.py:31\u001b[0m, in \u001b[0;36msleep\u001b[0;34m(seconds)\u001b[0m\n\u001b[1;32m     25\u001b[0m \u001b[39mdef\u001b[39;00m \u001b[39msleep\u001b[39m(seconds: \u001b[39mfloat\u001b[39m) \u001b[39m-\u001b[39m\u001b[39m>\u001b[39m \u001b[39mNone\u001b[39;00m:\n\u001b[1;32m     26\u001b[0m \u001b[39m    \u001b[39m\u001b[39m\"\"\"\u001b[39;00m\n\u001b[1;32m     27\u001b[0m \u001b[39m    Sleep strategy that delays execution for a given number of seconds.\u001b[39;00m\n\u001b[1;32m     28\u001b[0m \n\u001b[1;32m     29\u001b[0m \u001b[39m    This is the default strategy, and may be mocked out for unit testing.\u001b[39;00m\n\u001b[1;32m     30\u001b[0m \u001b[39m    \"\"\"\u001b[39;00m\n\u001b[0;32m---> 31\u001b[0m     time\u001b[39m.\u001b[39;49msleep(seconds)\n",
            "\u001b[0;31mKeyboardInterrupt\u001b[0m: "
          ]
        }
      ],
      "source": [
        "agent.run(\"How many records are there in the dataframe?\")"
      ]
    },
    {
      "cell_type": "code",
      "execution_count": null,
      "metadata": {},
      "outputs": [],
      "source": []
    }
  ],
  "metadata": {
    "colab": {
      "provenance": []
    },
    "kernelspec": {
      "display_name": "Python 3.9.6 64-bit",
      "language": "python",
      "name": "python3"
    },
    "language_info": {
      "codemirror_mode": {
        "name": "ipython",
        "version": 3
      },
      "file_extension": ".py",
      "mimetype": "text/x-python",
      "name": "python",
      "nbconvert_exporter": "python",
      "pygments_lexer": "ipython3",
      "version": "3.9.6"
    },
    "vscode": {
      "interpreter": {
        "hash": "31f2aee4e71d21fbe5cf8b01ff0e069b9275f58929596ceb00d14d90e3e16cd6"
      }
    }
  },
  "nbformat": 4,
  "nbformat_minor": 0
}
